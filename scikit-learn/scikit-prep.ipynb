{
 "cells": [
  {
   "cell_type": "markdown",
   "metadata": {},
   "source": [
    "# pls use scikit-learn pipelines for dataprep and cross validation"
   ]
  },
  {
   "cell_type": "markdown",
   "metadata": {},
   "source": [
    "<img src ='IMG_6352.jpg' style='width: 500px' align='left'>"
   ]
  },
  {
   "cell_type": "markdown",
   "metadata": {},
   "source": [
    "### environment"
   ]
  },
  {
   "cell_type": "code",
   "execution_count": 1,
   "metadata": {
    "scrolled": true
   },
   "outputs": [
    {
     "data": {
      "text/plain": [
       "'3.7.4 (default, Aug 13 2019, 15:17:50) \\n[Clang 4.0.1 (tags/RELEASE_401/final)]'"
      ]
     },
     "execution_count": 1,
     "metadata": {},
     "output_type": "execute_result"
    }
   ],
   "source": [
    "import sys\n",
    "sys.version"
   ]
  },
  {
   "cell_type": "markdown",
   "metadata": {},
   "source": [
    "### imports"
   ]
  },
  {
   "cell_type": "code",
   "execution_count": 2,
   "metadata": {
    "scrolled": true
   },
   "outputs": [],
   "source": [
    "%load_ext autoreload\n",
    "%autoreload 2\n",
    "%matplotlib inline\n",
    "%config InlineBackend.figure_format = 'retina'\n",
    "\n",
    "#libraries\n",
    "######################################################################\n",
    "\n",
    "import os\n",
    "import numpy as np\n",
    "import pandas as pd\n",
    "import sklearn\n",
    "import matplotlib.pyplot as plt\n",
    "import seaborn as sns\n",
    "\n",
    "import pickle\n",
    "\n",
    "#configuration options\n",
    "######################################################################\n",
    "\n",
    "pd.set_option('display.max_columns', 1000)\n",
    "pd.set_option('display.max_rows', 400)\n",
    "sns.set()\n",
    "\n",
    "seed = 12345"
   ]
  },
  {
   "cell_type": "code",
   "execution_count": 3,
   "metadata": {
    "scrolled": false
   },
   "outputs": [
    {
     "data": {
      "text/plain": [
       "'1.2.5'"
      ]
     },
     "execution_count": 3,
     "metadata": {},
     "output_type": "execute_result"
    }
   ],
   "source": [
    "pd.__version__"
   ]
  },
  {
   "cell_type": "code",
   "execution_count": 4,
   "metadata": {
    "scrolled": true
   },
   "outputs": [
    {
     "data": {
      "text/plain": [
       "'1.19.5'"
      ]
     },
     "execution_count": 4,
     "metadata": {},
     "output_type": "execute_result"
    }
   ],
   "source": [
    "np.__version__"
   ]
  },
  {
   "cell_type": "code",
   "execution_count": 5,
   "metadata": {
    "scrolled": true
   },
   "outputs": [
    {
     "data": {
      "text/plain": [
       "'0.24.1'"
      ]
     },
     "execution_count": 5,
     "metadata": {},
     "output_type": "execute_result"
    }
   ],
   "source": [
    "sklearn.__version__"
   ]
  },
  {
   "cell_type": "markdown",
   "metadata": {},
   "source": [
    "## dataset"
   ]
  },
  {
   "cell_type": "code",
   "execution_count": 6,
   "metadata": {},
   "outputs": [],
   "source": [
    "from sklearn.datasets import fetch_openml\n",
    "from sklearn.model_selection import train_test_split"
   ]
  },
  {
   "cell_type": "code",
   "execution_count": 7,
   "metadata": {},
   "outputs": [],
   "source": [
    "X, y = fetch_openml(\"titanic\", version=1, as_frame=True, return_X_y=True)"
   ]
  },
  {
   "cell_type": "code",
   "execution_count": 8,
   "metadata": {},
   "outputs": [
    {
     "data": {
      "text/html": [
       "<div>\n",
       "<style scoped>\n",
       "    .dataframe tbody tr th:only-of-type {\n",
       "        vertical-align: middle;\n",
       "    }\n",
       "\n",
       "    .dataframe tbody tr th {\n",
       "        vertical-align: top;\n",
       "    }\n",
       "\n",
       "    .dataframe thead th {\n",
       "        text-align: right;\n",
       "    }\n",
       "</style>\n",
       "<table border=\"1\" class=\"dataframe\">\n",
       "  <thead>\n",
       "    <tr style=\"text-align: right;\">\n",
       "      <th></th>\n",
       "      <th>pclass</th>\n",
       "      <th>name</th>\n",
       "      <th>sex</th>\n",
       "      <th>age</th>\n",
       "      <th>sibsp</th>\n",
       "      <th>parch</th>\n",
       "      <th>ticket</th>\n",
       "      <th>fare</th>\n",
       "      <th>cabin</th>\n",
       "      <th>embarked</th>\n",
       "      <th>boat</th>\n",
       "      <th>body</th>\n",
       "      <th>home.dest</th>\n",
       "    </tr>\n",
       "  </thead>\n",
       "  <tbody>\n",
       "    <tr>\n",
       "      <th>0</th>\n",
       "      <td>1.0</td>\n",
       "      <td>Allen, Miss. Elisabeth Walton</td>\n",
       "      <td>female</td>\n",
       "      <td>29.0000</td>\n",
       "      <td>0.0</td>\n",
       "      <td>0.0</td>\n",
       "      <td>24160</td>\n",
       "      <td>211.3375</td>\n",
       "      <td>B5</td>\n",
       "      <td>S</td>\n",
       "      <td>2</td>\n",
       "      <td>NaN</td>\n",
       "      <td>St Louis, MO</td>\n",
       "    </tr>\n",
       "    <tr>\n",
       "      <th>1</th>\n",
       "      <td>1.0</td>\n",
       "      <td>Allison, Master. Hudson Trevor</td>\n",
       "      <td>male</td>\n",
       "      <td>0.9167</td>\n",
       "      <td>1.0</td>\n",
       "      <td>2.0</td>\n",
       "      <td>113781</td>\n",
       "      <td>151.5500</td>\n",
       "      <td>C22 C26</td>\n",
       "      <td>S</td>\n",
       "      <td>11</td>\n",
       "      <td>NaN</td>\n",
       "      <td>Montreal, PQ / Chesterville, ON</td>\n",
       "    </tr>\n",
       "    <tr>\n",
       "      <th>2</th>\n",
       "      <td>1.0</td>\n",
       "      <td>Allison, Miss. Helen Loraine</td>\n",
       "      <td>female</td>\n",
       "      <td>2.0000</td>\n",
       "      <td>1.0</td>\n",
       "      <td>2.0</td>\n",
       "      <td>113781</td>\n",
       "      <td>151.5500</td>\n",
       "      <td>C22 C26</td>\n",
       "      <td>S</td>\n",
       "      <td>None</td>\n",
       "      <td>NaN</td>\n",
       "      <td>Montreal, PQ / Chesterville, ON</td>\n",
       "    </tr>\n",
       "    <tr>\n",
       "      <th>3</th>\n",
       "      <td>1.0</td>\n",
       "      <td>Allison, Mr. Hudson Joshua Creighton</td>\n",
       "      <td>male</td>\n",
       "      <td>30.0000</td>\n",
       "      <td>1.0</td>\n",
       "      <td>2.0</td>\n",
       "      <td>113781</td>\n",
       "      <td>151.5500</td>\n",
       "      <td>C22 C26</td>\n",
       "      <td>S</td>\n",
       "      <td>None</td>\n",
       "      <td>135.0</td>\n",
       "      <td>Montreal, PQ / Chesterville, ON</td>\n",
       "    </tr>\n",
       "    <tr>\n",
       "      <th>4</th>\n",
       "      <td>1.0</td>\n",
       "      <td>Allison, Mrs. Hudson J C (Bessie Waldo Daniels)</td>\n",
       "      <td>female</td>\n",
       "      <td>25.0000</td>\n",
       "      <td>1.0</td>\n",
       "      <td>2.0</td>\n",
       "      <td>113781</td>\n",
       "      <td>151.5500</td>\n",
       "      <td>C22 C26</td>\n",
       "      <td>S</td>\n",
       "      <td>None</td>\n",
       "      <td>NaN</td>\n",
       "      <td>Montreal, PQ / Chesterville, ON</td>\n",
       "    </tr>\n",
       "  </tbody>\n",
       "</table>\n",
       "</div>"
      ],
      "text/plain": [
       "   pclass                                             name     sex      age  \\\n",
       "0     1.0                    Allen, Miss. Elisabeth Walton  female  29.0000   \n",
       "1     1.0                   Allison, Master. Hudson Trevor    male   0.9167   \n",
       "2     1.0                     Allison, Miss. Helen Loraine  female   2.0000   \n",
       "3     1.0             Allison, Mr. Hudson Joshua Creighton    male  30.0000   \n",
       "4     1.0  Allison, Mrs. Hudson J C (Bessie Waldo Daniels)  female  25.0000   \n",
       "\n",
       "   sibsp  parch  ticket      fare    cabin embarked  boat   body  \\\n",
       "0    0.0    0.0   24160  211.3375       B5        S     2    NaN   \n",
       "1    1.0    2.0  113781  151.5500  C22 C26        S    11    NaN   \n",
       "2    1.0    2.0  113781  151.5500  C22 C26        S  None    NaN   \n",
       "3    1.0    2.0  113781  151.5500  C22 C26        S  None  135.0   \n",
       "4    1.0    2.0  113781  151.5500  C22 C26        S  None    NaN   \n",
       "\n",
       "                         home.dest  \n",
       "0                     St Louis, MO  \n",
       "1  Montreal, PQ / Chesterville, ON  \n",
       "2  Montreal, PQ / Chesterville, ON  \n",
       "3  Montreal, PQ / Chesterville, ON  \n",
       "4  Montreal, PQ / Chesterville, ON  "
      ]
     },
     "execution_count": 8,
     "metadata": {},
     "output_type": "execute_result"
    }
   ],
   "source": [
    "X.head()"
   ]
  },
  {
   "cell_type": "code",
   "execution_count": 9,
   "metadata": {},
   "outputs": [
    {
     "data": {
      "text/plain": [
       "0    1\n",
       "1    1\n",
       "2    0\n",
       "3    0\n",
       "4    0\n",
       "Name: survived, dtype: category\n",
       "Categories (2, object): ['0', '1']"
      ]
     },
     "execution_count": 9,
     "metadata": {},
     "output_type": "execute_result"
    }
   ],
   "source": [
    "y.head()"
   ]
  },
  {
   "cell_type": "code",
   "execution_count": 10,
   "metadata": {},
   "outputs": [],
   "source": [
    "X_train, X_test, y_train, y_test = train_test_split(X, y, test_size=0.2, random_state=seed)"
   ]
  },
  {
   "cell_type": "markdown",
   "metadata": {},
   "source": [
    "## pandas vs scikit-learn"
   ]
  },
  {
   "cell_type": "markdown",
   "metadata": {},
   "source": [
    "### na imputation"
   ]
  },
  {
   "cell_type": "markdown",
   "metadata": {},
   "source": [
    "the `pandas` way"
   ]
  },
  {
   "cell_type": "code",
   "execution_count": 13,
   "metadata": {},
   "outputs": [
    {
     "data": {
      "text/plain": [
       "(1047, 13)"
      ]
     },
     "execution_count": 13,
     "metadata": {},
     "output_type": "execute_result"
    }
   ],
   "source": [
    "X_train.shape"
   ]
  },
  {
   "cell_type": "code",
   "execution_count": 11,
   "metadata": {},
   "outputs": [
    {
     "data": {
      "text/plain": [
       "pclass         0\n",
       "name           0\n",
       "sex            0\n",
       "age          203\n",
       "sibsp          0\n",
       "parch          0\n",
       "ticket         0\n",
       "fare           1\n",
       "cabin        820\n",
       "embarked       1\n",
       "boat         676\n",
       "body         950\n",
       "home.dest    438\n",
       "dtype: int64"
      ]
     },
     "execution_count": 11,
     "metadata": {},
     "output_type": "execute_result"
    }
   ],
   "source": [
    "X_train.isna().sum()"
   ]
  },
  {
   "cell_type": "code",
   "execution_count": 12,
   "metadata": {},
   "outputs": [
    {
     "data": {
      "text/plain": [
       "pclass        float64\n",
       "name           object\n",
       "sex          category\n",
       "age           float64\n",
       "sibsp         float64\n",
       "parch         float64\n",
       "ticket         object\n",
       "fare          float64\n",
       "cabin          object\n",
       "embarked     category\n",
       "boat           object\n",
       "body          float64\n",
       "home.dest      object\n",
       "dtype: object"
      ]
     },
     "execution_count": 12,
     "metadata": {},
     "output_type": "execute_result"
    }
   ],
   "source": [
    "X_train.dtypes"
   ]
  },
  {
   "cell_type": "code",
   "execution_count": 14,
   "metadata": {},
   "outputs": [],
   "source": [
    "X_copy = X_train.copy()"
   ]
  },
  {
   "cell_type": "markdown",
   "metadata": {},
   "source": [
    "you can separate categorical from numeric and impute with different techniques"
   ]
  },
  {
   "cell_type": "code",
   "execution_count": 18,
   "metadata": {},
   "outputs": [
    {
     "data": {
      "text/html": [
       "<div>\n",
       "<style scoped>\n",
       "    .dataframe tbody tr th:only-of-type {\n",
       "        vertical-align: middle;\n",
       "    }\n",
       "\n",
       "    .dataframe tbody tr th {\n",
       "        vertical-align: top;\n",
       "    }\n",
       "\n",
       "    .dataframe thead th {\n",
       "        text-align: right;\n",
       "    }\n",
       "</style>\n",
       "<table border=\"1\" class=\"dataframe\">\n",
       "  <thead>\n",
       "    <tr style=\"text-align: right;\">\n",
       "      <th></th>\n",
       "      <th>pclass</th>\n",
       "      <th>age</th>\n",
       "      <th>sibsp</th>\n",
       "      <th>parch</th>\n",
       "      <th>fare</th>\n",
       "      <th>body</th>\n",
       "    </tr>\n",
       "  </thead>\n",
       "  <tbody>\n",
       "    <tr>\n",
       "      <th>0</th>\n",
       "      <td>1.0</td>\n",
       "      <td>29.0</td>\n",
       "      <td>0.0</td>\n",
       "      <td>0.0</td>\n",
       "      <td>211.3375</td>\n",
       "      <td>NaN</td>\n",
       "    </tr>\n",
       "  </tbody>\n",
       "</table>\n",
       "</div>"
      ],
      "text/plain": [
       "   pclass   age  sibsp  parch      fare  body\n",
       "0     1.0  29.0    0.0    0.0  211.3375   NaN"
      ]
     },
     "execution_count": 18,
     "metadata": {},
     "output_type": "execute_result"
    }
   ],
   "source": [
    "X_copy.select_dtypes('number').head(1)"
   ]
  },
  {
   "cell_type": "code",
   "execution_count": 19,
   "metadata": {},
   "outputs": [
    {
     "data": {
      "text/html": [
       "<div>\n",
       "<style scoped>\n",
       "    .dataframe tbody tr th:only-of-type {\n",
       "        vertical-align: middle;\n",
       "    }\n",
       "\n",
       "    .dataframe tbody tr th {\n",
       "        vertical-align: top;\n",
       "    }\n",
       "\n",
       "    .dataframe thead th {\n",
       "        text-align: right;\n",
       "    }\n",
       "</style>\n",
       "<table border=\"1\" class=\"dataframe\">\n",
       "  <thead>\n",
       "    <tr style=\"text-align: right;\">\n",
       "      <th></th>\n",
       "      <th>name</th>\n",
       "      <th>ticket</th>\n",
       "      <th>cabin</th>\n",
       "      <th>boat</th>\n",
       "      <th>home.dest</th>\n",
       "    </tr>\n",
       "  </thead>\n",
       "  <tbody>\n",
       "    <tr>\n",
       "      <th>0</th>\n",
       "      <td>Allen, Miss. Elisabeth Walton</td>\n",
       "      <td>24160</td>\n",
       "      <td>B5</td>\n",
       "      <td>2</td>\n",
       "      <td>St Louis, MO</td>\n",
       "    </tr>\n",
       "  </tbody>\n",
       "</table>\n",
       "</div>"
      ],
      "text/plain": [
       "                            name ticket cabin boat     home.dest\n",
       "0  Allen, Miss. Elisabeth Walton  24160    B5    2  St Louis, MO"
      ]
     },
     "execution_count": 19,
     "metadata": {},
     "output_type": "execute_result"
    }
   ],
   "source": [
    "X_copy.select_dtypes('object').head(1)"
   ]
  },
  {
   "cell_type": "markdown",
   "metadata": {},
   "source": [
    "you have to use external ways to store the input values"
   ]
  },
  {
   "cell_type": "code",
   "execution_count": 23,
   "metadata": {},
   "outputs": [],
   "source": [
    "#impute_values = {'age': X_copy['age'].median(), 'cabin':'Other'}"
   ]
  },
  {
   "cell_type": "code",
   "execution_count": 20,
   "metadata": {},
   "outputs": [],
   "source": [
    "X_copy['age'] = X_copy['age'].fillna(X_copy['age'].median())"
   ]
  },
  {
   "cell_type": "code",
   "execution_count": 21,
   "metadata": {},
   "outputs": [],
   "source": [
    "X_copy['cabin'] = X_copy['cabin'].fillna('Other')"
   ]
  },
  {
   "cell_type": "code",
   "execution_count": 22,
   "metadata": {},
   "outputs": [
    {
     "data": {
      "text/plain": [
       "pclass         0\n",
       "name           0\n",
       "sex            0\n",
       "age            0\n",
       "sibsp          0\n",
       "parch          0\n",
       "ticket         0\n",
       "fare           1\n",
       "cabin          0\n",
       "embarked       1\n",
       "boat         676\n",
       "body         950\n",
       "home.dest    438\n",
       "dtype: int64"
      ]
     },
     "execution_count": 22,
     "metadata": {},
     "output_type": "execute_result"
    }
   ],
   "source": [
    "X_copy.isna().sum()"
   ]
  },
  {
   "cell_type": "code",
   "execution_count": 24,
   "metadata": {},
   "outputs": [],
   "source": [
    "#X_test['age'] = X_test['age'].fillna(impute_values['age'])"
   ]
  },
  {
   "cell_type": "markdown",
   "metadata": {},
   "source": [
    "the `scikit-learn` way"
   ]
  },
  {
   "cell_type": "code",
   "execution_count": 26,
   "metadata": {},
   "outputs": [],
   "source": [
    "from sklearn.impute import SimpleImputer"
   ]
  },
  {
   "cell_type": "code",
   "execution_count": 25,
   "metadata": {},
   "outputs": [],
   "source": [
    "X_train_num = X_train.select_dtypes('number')\n",
    "X_test_num = X_test.select_dtypes('number')"
   ]
  },
  {
   "cell_type": "code",
   "execution_count": 27,
   "metadata": {},
   "outputs": [
    {
     "data": {
      "text/html": [
       "<div>\n",
       "<style scoped>\n",
       "    .dataframe tbody tr th:only-of-type {\n",
       "        vertical-align: middle;\n",
       "    }\n",
       "\n",
       "    .dataframe tbody tr th {\n",
       "        vertical-align: top;\n",
       "    }\n",
       "\n",
       "    .dataframe thead th {\n",
       "        text-align: right;\n",
       "    }\n",
       "</style>\n",
       "<table border=\"1\" class=\"dataframe\">\n",
       "  <thead>\n",
       "    <tr style=\"text-align: right;\">\n",
       "      <th></th>\n",
       "      <th>pclass</th>\n",
       "      <th>age</th>\n",
       "      <th>sibsp</th>\n",
       "      <th>parch</th>\n",
       "      <th>fare</th>\n",
       "      <th>body</th>\n",
       "    </tr>\n",
       "  </thead>\n",
       "  <tbody>\n",
       "    <tr>\n",
       "      <th>0</th>\n",
       "      <td>1.0</td>\n",
       "      <td>29.0</td>\n",
       "      <td>0.0</td>\n",
       "      <td>0.0</td>\n",
       "      <td>211.3375</td>\n",
       "      <td>NaN</td>\n",
       "    </tr>\n",
       "  </tbody>\n",
       "</table>\n",
       "</div>"
      ],
      "text/plain": [
       "   pclass   age  sibsp  parch      fare  body\n",
       "0     1.0  29.0    0.0    0.0  211.3375   NaN"
      ]
     },
     "execution_count": 27,
     "metadata": {},
     "output_type": "execute_result"
    }
   ],
   "source": [
    "X_train_num.head(1)"
   ]
  },
  {
   "cell_type": "code",
   "execution_count": 28,
   "metadata": {},
   "outputs": [
    {
     "data": {
      "text/html": [
       "<div>\n",
       "<style scoped>\n",
       "    .dataframe tbody tr th:only-of-type {\n",
       "        vertical-align: middle;\n",
       "    }\n",
       "\n",
       "    .dataframe tbody tr th {\n",
       "        vertical-align: top;\n",
       "    }\n",
       "\n",
       "    .dataframe thead th {\n",
       "        text-align: right;\n",
       "    }\n",
       "</style>\n",
       "<table border=\"1\" class=\"dataframe\">\n",
       "  <thead>\n",
       "    <tr style=\"text-align: right;\">\n",
       "      <th></th>\n",
       "      <th>pclass</th>\n",
       "      <th>age</th>\n",
       "      <th>sibsp</th>\n",
       "      <th>parch</th>\n",
       "      <th>fare</th>\n",
       "      <th>body</th>\n",
       "    </tr>\n",
       "  </thead>\n",
       "  <tbody>\n",
       "    <tr>\n",
       "      <th>1097</th>\n",
       "      <td>3.0</td>\n",
       "      <td>6.0</td>\n",
       "      <td>3.0</td>\n",
       "      <td>1.0</td>\n",
       "      <td>21.075</td>\n",
       "      <td>NaN</td>\n",
       "    </tr>\n",
       "  </tbody>\n",
       "</table>\n",
       "</div>"
      ],
      "text/plain": [
       "      pclass  age  sibsp  parch    fare  body\n",
       "1097     3.0  6.0    3.0    1.0  21.075   NaN"
      ]
     },
     "execution_count": 28,
     "metadata": {},
     "output_type": "execute_result"
    }
   ],
   "source": [
    "X_test_num.head(1)"
   ]
  },
  {
   "cell_type": "code",
   "execution_count": 29,
   "metadata": {},
   "outputs": [],
   "source": [
    "imputer = SimpleImputer(strategy = 'median')"
   ]
  },
  {
   "cell_type": "code",
   "execution_count": 30,
   "metadata": {},
   "outputs": [
    {
     "data": {
      "text/plain": [
       "SimpleImputer(strategy='median')"
      ]
     },
     "execution_count": 30,
     "metadata": {},
     "output_type": "execute_result"
    }
   ],
   "source": [
    "imputer.fit(X_train_num)"
   ]
  },
  {
   "cell_type": "code",
   "execution_count": 31,
   "metadata": {},
   "outputs": [
    {
     "data": {
      "text/plain": [
       "pclass      0\n",
       "age       203\n",
       "sibsp       0\n",
       "parch       0\n",
       "fare        1\n",
       "body      950\n",
       "dtype: int64"
      ]
     },
     "execution_count": 31,
     "metadata": {},
     "output_type": "execute_result"
    }
   ],
   "source": [
    "X_train_num.isna().sum()"
   ]
  },
  {
   "cell_type": "code",
   "execution_count": 33,
   "metadata": {},
   "outputs": [
    {
     "data": {
      "text/plain": [
       "Index(['pclass', 'age', 'sibsp', 'parch', 'fare', 'body'], dtype='object')"
      ]
     },
     "execution_count": 33,
     "metadata": {},
     "output_type": "execute_result"
    }
   ],
   "source": [
    "X_train_num.columns"
   ]
  },
  {
   "cell_type": "code",
   "execution_count": 32,
   "metadata": {},
   "outputs": [
    {
     "data": {
      "text/plain": [
       "array([  3. ,  28. ,   0. ,   0. ,  14.5, 165. ])"
      ]
     },
     "execution_count": 32,
     "metadata": {},
     "output_type": "execute_result"
    }
   ],
   "source": [
    "imputer.statistics_"
   ]
  },
  {
   "cell_type": "code",
   "execution_count": 34,
   "metadata": {},
   "outputs": [],
   "source": [
    "X_train_imp = imputer.transform(X_train_num)\n",
    "X_test_imp = imputer.transform(X_test_num)"
   ]
  },
  {
   "cell_type": "markdown",
   "metadata": {},
   "source": [
    "### one hot encoding"
   ]
  },
  {
   "cell_type": "code",
   "execution_count": 38,
   "metadata": {},
   "outputs": [
    {
     "data": {
      "text/html": [
       "<div>\n",
       "<style scoped>\n",
       "    .dataframe tbody tr th:only-of-type {\n",
       "        vertical-align: middle;\n",
       "    }\n",
       "\n",
       "    .dataframe tbody tr th {\n",
       "        vertical-align: top;\n",
       "    }\n",
       "\n",
       "    .dataframe thead th {\n",
       "        text-align: right;\n",
       "    }\n",
       "</style>\n",
       "<table border=\"1\" class=\"dataframe\">\n",
       "  <thead>\n",
       "    <tr style=\"text-align: right;\">\n",
       "      <th></th>\n",
       "      <th>pclass</th>\n",
       "      <th>name</th>\n",
       "      <th>sex</th>\n",
       "      <th>age</th>\n",
       "      <th>sibsp</th>\n",
       "      <th>parch</th>\n",
       "      <th>ticket</th>\n",
       "      <th>fare</th>\n",
       "      <th>cabin</th>\n",
       "      <th>embarked</th>\n",
       "      <th>boat</th>\n",
       "      <th>body</th>\n",
       "      <th>home.dest</th>\n",
       "    </tr>\n",
       "  </thead>\n",
       "  <tbody>\n",
       "    <tr>\n",
       "      <th>0</th>\n",
       "      <td>1.0</td>\n",
       "      <td>Allen, Miss. Elisabeth Walton</td>\n",
       "      <td>female</td>\n",
       "      <td>29.0</td>\n",
       "      <td>0.0</td>\n",
       "      <td>0.0</td>\n",
       "      <td>24160</td>\n",
       "      <td>211.3375</td>\n",
       "      <td>B5</td>\n",
       "      <td>S</td>\n",
       "      <td>2</td>\n",
       "      <td>NaN</td>\n",
       "      <td>St Louis, MO</td>\n",
       "    </tr>\n",
       "  </tbody>\n",
       "</table>\n",
       "</div>"
      ],
      "text/plain": [
       "   pclass                           name     sex   age  sibsp  parch ticket  \\\n",
       "0     1.0  Allen, Miss. Elisabeth Walton  female  29.0    0.0    0.0  24160   \n",
       "\n",
       "       fare cabin embarked boat  body     home.dest  \n",
       "0  211.3375    B5        S    2   NaN  St Louis, MO  "
      ]
     },
     "execution_count": 38,
     "metadata": {},
     "output_type": "execute_result"
    }
   ],
   "source": [
    "X_train.head(1)"
   ]
  },
  {
   "cell_type": "code",
   "execution_count": 39,
   "metadata": {},
   "outputs": [],
   "source": [
    "X_train_cat = X_train[['embarked', 'sex', 'pclass']]\n",
    "X_test_cat = X_test[['embarked', 'sex', 'pclass']]"
   ]
  },
  {
   "cell_type": "markdown",
   "metadata": {},
   "source": [
    "the `pandas` way"
   ]
  },
  {
   "cell_type": "code",
   "execution_count": 40,
   "metadata": {},
   "outputs": [
    {
     "data": {
      "text/html": [
       "<div>\n",
       "<style scoped>\n",
       "    .dataframe tbody tr th:only-of-type {\n",
       "        vertical-align: middle;\n",
       "    }\n",
       "\n",
       "    .dataframe tbody tr th {\n",
       "        vertical-align: top;\n",
       "    }\n",
       "\n",
       "    .dataframe thead th {\n",
       "        text-align: right;\n",
       "    }\n",
       "</style>\n",
       "<table border=\"1\" class=\"dataframe\">\n",
       "  <thead>\n",
       "    <tr style=\"text-align: right;\">\n",
       "      <th></th>\n",
       "      <th>pclass</th>\n",
       "      <th>embarked_C</th>\n",
       "      <th>embarked_Q</th>\n",
       "      <th>embarked_S</th>\n",
       "      <th>sex_female</th>\n",
       "      <th>sex_male</th>\n",
       "    </tr>\n",
       "  </thead>\n",
       "  <tbody>\n",
       "    <tr>\n",
       "      <th>0</th>\n",
       "      <td>1.0</td>\n",
       "      <td>0</td>\n",
       "      <td>0</td>\n",
       "      <td>1</td>\n",
       "      <td>1</td>\n",
       "      <td>0</td>\n",
       "    </tr>\n",
       "  </tbody>\n",
       "</table>\n",
       "</div>"
      ],
      "text/plain": [
       "   pclass  embarked_C  embarked_Q  embarked_S  sex_female  sex_male\n",
       "0     1.0           0           0           1           1         0"
      ]
     },
     "execution_count": 40,
     "metadata": {},
     "output_type": "execute_result"
    }
   ],
   "source": [
    "pd.get_dummies(X_train_cat).head(1)"
   ]
  },
  {
   "cell_type": "code",
   "execution_count": 41,
   "metadata": {},
   "outputs": [
    {
     "data": {
      "text/html": [
       "<div>\n",
       "<style scoped>\n",
       "    .dataframe tbody tr th:only-of-type {\n",
       "        vertical-align: middle;\n",
       "    }\n",
       "\n",
       "    .dataframe tbody tr th {\n",
       "        vertical-align: top;\n",
       "    }\n",
       "\n",
       "    .dataframe thead th {\n",
       "        text-align: right;\n",
       "    }\n",
       "</style>\n",
       "<table border=\"1\" class=\"dataframe\">\n",
       "  <thead>\n",
       "    <tr style=\"text-align: right;\">\n",
       "      <th></th>\n",
       "      <th>pclass</th>\n",
       "      <th>embarked_C</th>\n",
       "      <th>embarked_Q</th>\n",
       "      <th>embarked_S</th>\n",
       "      <th>sex_female</th>\n",
       "      <th>sex_male</th>\n",
       "    </tr>\n",
       "  </thead>\n",
       "  <tbody>\n",
       "    <tr>\n",
       "      <th>1097</th>\n",
       "      <td>3.0</td>\n",
       "      <td>0</td>\n",
       "      <td>0</td>\n",
       "      <td>1</td>\n",
       "      <td>0</td>\n",
       "      <td>1</td>\n",
       "    </tr>\n",
       "  </tbody>\n",
       "</table>\n",
       "</div>"
      ],
      "text/plain": [
       "      pclass  embarked_C  embarked_Q  embarked_S  sex_female  sex_male\n",
       "1097     3.0           0           0           1           0         1"
      ]
     },
     "execution_count": 41,
     "metadata": {},
     "output_type": "execute_result"
    }
   ],
   "source": [
    "pd.get_dummies(X_test_cat).head(1)"
   ]
  },
  {
   "cell_type": "markdown",
   "metadata": {},
   "source": [
    "the `scikit-learn` way"
   ]
  },
  {
   "cell_type": "code",
   "execution_count": 42,
   "metadata": {},
   "outputs": [],
   "source": [
    "from sklearn.preprocessing import OneHotEncoder"
   ]
  },
  {
   "cell_type": "code",
   "execution_count": 43,
   "metadata": {},
   "outputs": [],
   "source": [
    "ohe = OneHotEncoder(handle_unknown='ignore')"
   ]
  },
  {
   "cell_type": "code",
   "execution_count": 44,
   "metadata": {},
   "outputs": [
    {
     "data": {
      "text/plain": [
       "OneHotEncoder(handle_unknown='ignore')"
      ]
     },
     "execution_count": 44,
     "metadata": {},
     "output_type": "execute_result"
    }
   ],
   "source": [
    "ohe.fit(X_train_cat)"
   ]
  },
  {
   "cell_type": "code",
   "execution_count": 45,
   "metadata": {},
   "outputs": [
    {
     "data": {
      "text/plain": [
       "[array(['C', 'Q', 'S', nan], dtype=object),\n",
       " array(['female', 'male'], dtype=object),\n",
       " array([1., 2., 3.])]"
      ]
     },
     "execution_count": 45,
     "metadata": {},
     "output_type": "execute_result"
    }
   ],
   "source": [
    "ohe.categories_"
   ]
  },
  {
   "cell_type": "code",
   "execution_count": 47,
   "metadata": {},
   "outputs": [
    {
     "data": {
      "text/plain": [
       "array(['embarked_C', 'embarked_Q', 'embarked_S', 'embarked_nan',\n",
       "       'sex_female', 'sex_male', 'pclass_1.0', 'pclass_2.0', 'pclass_3.0'],\n",
       "      dtype=object)"
      ]
     },
     "execution_count": 47,
     "metadata": {},
     "output_type": "execute_result"
    }
   ],
   "source": [
    "ohe.get_feature_names(input_features = X_train_cat.columns)"
   ]
  },
  {
   "cell_type": "code",
   "execution_count": 48,
   "metadata": {},
   "outputs": [
    {
     "data": {
      "text/plain": [
       "<1047x9 sparse matrix of type '<class 'numpy.float64'>'\n",
       "\twith 3141 stored elements in Compressed Sparse Row format>"
      ]
     },
     "execution_count": 48,
     "metadata": {},
     "output_type": "execute_result"
    }
   ],
   "source": [
    "ohe.transform(X_train_cat)"
   ]
  },
  {
   "cell_type": "code",
   "execution_count": 49,
   "metadata": {},
   "outputs": [
    {
     "data": {
      "text/plain": [
       "<262x9 sparse matrix of type '<class 'numpy.float64'>'\n",
       "\twith 786 stored elements in Compressed Sparse Row format>"
      ]
     },
     "execution_count": 49,
     "metadata": {},
     "output_type": "execute_result"
    }
   ],
   "source": [
    "ohe.transform(X_test_cat)"
   ]
  },
  {
   "cell_type": "markdown",
   "metadata": {},
   "source": [
    "## full dataprep with scikit pipelines"
   ]
  },
  {
   "cell_type": "code",
   "execution_count": 50,
   "metadata": {},
   "outputs": [],
   "source": [
    "from sklearn.pipeline import Pipeline\n",
    "from sklearn.compose import ColumnTransformer\n",
    "\n",
    "from sklearn.impute import SimpleImputer\n",
    "from sklearn.preprocessing import StandardScaler, OneHotEncoder"
   ]
  },
  {
   "cell_type": "code",
   "execution_count": 51,
   "metadata": {},
   "outputs": [],
   "source": [
    "pipe = Pipeline(steps = [('imputer', SimpleImputer(strategy = 'median')),\n",
    "                        ('scaler', StandardScaler())])"
   ]
  },
  {
   "cell_type": "code",
   "execution_count": 52,
   "metadata": {},
   "outputs": [
    {
     "data": {
      "text/plain": [
       "Pipeline(steps=[('imputer', SimpleImputer(strategy='median')),\n",
       "                ('scaler', StandardScaler())])"
      ]
     },
     "execution_count": 52,
     "metadata": {},
     "output_type": "execute_result"
    }
   ],
   "source": [
    "pipe.fit(X_train_num)"
   ]
  },
  {
   "cell_type": "code",
   "execution_count": 56,
   "metadata": {},
   "outputs": [
    {
     "data": {
      "text/plain": [
       "array([  3. ,  28. ,   0. ,   0. ,  14.5, 165. ])"
      ]
     },
     "execution_count": 56,
     "metadata": {},
     "output_type": "execute_result"
    }
   ],
   "source": [
    "pipe['imputer']"
   ]
  },
  {
   "cell_type": "code",
   "execution_count": 54,
   "metadata": {},
   "outputs": [
    {
     "data": {
      "text/plain": [
       "StandardScaler()"
      ]
     },
     "execution_count": 54,
     "metadata": {},
     "output_type": "execute_result"
    }
   ],
   "source": [
    "pipe['scaler']"
   ]
  },
  {
   "cell_type": "code",
   "execution_count": 57,
   "metadata": {},
   "outputs": [
    {
     "data": {
      "text/plain": [
       "array([[-1.56053521, -0.0508991 , -0.47518462, -0.45030234,  3.76745111,\n",
       "         0.00440384],\n",
       "       [-0.35649662, -0.90356063, -0.47518462, -0.45030234,  0.87198647,\n",
       "         0.00440384],\n",
       "       [-0.35649662, -0.51598721, -0.47518462, -0.45030234, -0.35592371,\n",
       "         0.00440384],\n",
       "       ...,\n",
       "       [-0.35649662, -0.12841378, -0.47518462, -0.45030234, -0.23084762,\n",
       "         0.00440384],\n",
       "       [-1.56053521,  0.41418902, -0.47518462, -0.45030234,  3.77086465,\n",
       "         0.00440384],\n",
       "       [-0.35649662, -0.98107532, -0.47518462, -0.45030234, -0.4199049 ,\n",
       "         0.00440384]])"
      ]
     },
     "execution_count": 57,
     "metadata": {},
     "output_type": "execute_result"
    }
   ],
   "source": [
    "pipe.transform(X_train_num)"
   ]
  },
  {
   "cell_type": "code",
   "execution_count": 58,
   "metadata": {},
   "outputs": [
    {
     "data": {
      "text/plain": [
       "array([[ 0.84754197, -1.83373686,  2.325106  ,  0.69681822, -0.22927215,\n",
       "         0.00440384],\n",
       "       [-1.56053521,  1.0343065 ,  0.45824558, -0.45030234,  0.49264725,\n",
       "         0.00440384],\n",
       "       [ 0.84754197, -0.12841378, -0.47518462, -0.45030234, -0.50918194,\n",
       "         0.00440384],\n",
       "       ...,\n",
       "       [ 0.84754197, -0.59350189,  0.45824558, -0.45030234, -0.3799928 ,\n",
       "         0.00440384],\n",
       "       [-1.56053521,  0.02661559,  0.45824558,  1.84393877,  2.51153315,\n",
       "        -1.00526497],\n",
       "       [ 0.84754197, -0.12841378, -0.47518462, -0.45030234, -0.52012206,\n",
       "         0.00440384]])"
      ]
     },
     "execution_count": 58,
     "metadata": {},
     "output_type": "execute_result"
    }
   ],
   "source": [
    "pipe.transform(X_test_num)"
   ]
  },
  {
   "cell_type": "markdown",
   "metadata": {},
   "source": [
    "### todo en un solo paso con ColumnTransformer"
   ]
  },
  {
   "cell_type": "markdown",
   "metadata": {},
   "source": [
    "numeric dataprep"
   ]
  },
  {
   "cell_type": "code",
   "execution_count": 59,
   "metadata": {},
   "outputs": [],
   "source": [
    "numeric_features = ['age', 'fare']\n",
    "numeric_transformer = Pipeline(steps=[\n",
    "    ('imputer', SimpleImputer(strategy='median')),\n",
    "    ('scaler', StandardScaler())])"
   ]
  },
  {
   "cell_type": "markdown",
   "metadata": {},
   "source": [
    "categorical dataprep"
   ]
  },
  {
   "cell_type": "code",
   "execution_count": 60,
   "metadata": {},
   "outputs": [],
   "source": [
    "categorical_features = ['embarked', 'sex', 'pclass']\n",
    "categorical_transformer = Pipeline(steps=[\n",
    "    ('imputer', SimpleImputer(strategy='most_frequent')),\n",
    "    ('ohe', OneHotEncoder(handle_unknown='ignore'))])"
   ]
  },
  {
   "cell_type": "markdown",
   "metadata": {},
   "source": [
    "both together with `ColumnTransformer`"
   ]
  },
  {
   "cell_type": "code",
   "execution_count": 61,
   "metadata": {},
   "outputs": [],
   "source": [
    "preprocessor = ColumnTransformer(transformers=[\n",
    "    ('num', numeric_transformer, numeric_features),\n",
    "    ('cat', categorical_transformer, categorical_features)])"
   ]
  },
  {
   "cell_type": "code",
   "execution_count": 62,
   "metadata": {},
   "outputs": [
    {
     "data": {
      "text/plain": [
       "ColumnTransformer(transformers=[('num',\n",
       "                                 Pipeline(steps=[('imputer',\n",
       "                                                  SimpleImputer(strategy='median')),\n",
       "                                                 ('scaler', StandardScaler())]),\n",
       "                                 ['age', 'fare']),\n",
       "                                ('cat',\n",
       "                                 Pipeline(steps=[('imputer',\n",
       "                                                  SimpleImputer(strategy='most_frequent')),\n",
       "                                                 ('ohe',\n",
       "                                                  OneHotEncoder(handle_unknown='ignore'))]),\n",
       "                                 ['embarked', 'sex', 'pclass'])])"
      ]
     },
     "execution_count": 62,
     "metadata": {},
     "output_type": "execute_result"
    }
   ],
   "source": [
    "preprocessor.fit(X_train)"
   ]
  },
  {
   "cell_type": "code",
   "execution_count": 63,
   "metadata": {},
   "outputs": [],
   "source": [
    "from sklearn import set_config\n",
    "\n",
    "set_config(display='diagram')"
   ]
  },
  {
   "cell_type": "code",
   "execution_count": 64,
   "metadata": {},
   "outputs": [
    {
     "data": {
      "text/html": [
       "<style>div.sk-top-container {color: black;background-color: white;}div.sk-toggleable {background-color: white;}label.sk-toggleable__label {cursor: pointer;display: block;width: 100%;margin-bottom: 0;padding: 0.2em 0.3em;box-sizing: border-box;text-align: center;}div.sk-toggleable__content {max-height: 0;max-width: 0;overflow: hidden;text-align: left;background-color: #f0f8ff;}div.sk-toggleable__content pre {margin: 0.2em;color: black;border-radius: 0.25em;background-color: #f0f8ff;}input.sk-toggleable__control:checked~div.sk-toggleable__content {max-height: 200px;max-width: 100%;overflow: auto;}div.sk-estimator input.sk-toggleable__control:checked~label.sk-toggleable__label {background-color: #d4ebff;}div.sk-label input.sk-toggleable__control:checked~label.sk-toggleable__label {background-color: #d4ebff;}input.sk-hidden--visually {border: 0;clip: rect(1px 1px 1px 1px);clip: rect(1px, 1px, 1px, 1px);height: 1px;margin: -1px;overflow: hidden;padding: 0;position: absolute;width: 1px;}div.sk-estimator {font-family: monospace;background-color: #f0f8ff;margin: 0.25em 0.25em;border: 1px dotted black;border-radius: 0.25em;box-sizing: border-box;}div.sk-estimator:hover {background-color: #d4ebff;}div.sk-parallel-item::after {content: \"\";width: 100%;border-bottom: 1px solid gray;flex-grow: 1;}div.sk-label:hover label.sk-toggleable__label {background-color: #d4ebff;}div.sk-serial::before {content: \"\";position: absolute;border-left: 1px solid gray;box-sizing: border-box;top: 2em;bottom: 0;left: 50%;}div.sk-serial {display: flex;flex-direction: column;align-items: center;background-color: white;}div.sk-item {z-index: 1;}div.sk-parallel {display: flex;align-items: stretch;justify-content: center;background-color: white;}div.sk-parallel-item {display: flex;flex-direction: column;position: relative;background-color: white;}div.sk-parallel-item:first-child::after {align-self: flex-end;width: 50%;}div.sk-parallel-item:last-child::after {align-self: flex-start;width: 50%;}div.sk-parallel-item:only-child::after {width: 0;}div.sk-dashed-wrapped {border: 1px dashed gray;margin: 0.2em;box-sizing: border-box;padding-bottom: 0.1em;background-color: white;position: relative;}div.sk-label label {font-family: monospace;font-weight: bold;background-color: white;display: inline-block;line-height: 1.2em;}div.sk-label-container {position: relative;z-index: 2;text-align: center;}div.sk-container {display: inline-block;position: relative;}</style><div class=\"sk-top-container\"><div class=\"sk-container\"><div class=\"sk-item sk-dashed-wrapped\"><div class=\"sk-label-container\"><div class=\"sk-label sk-toggleable\"><input class=\"sk-toggleable__control sk-hidden--visually\" id=\"78251e00-e81c-437b-8326-988352e7cac5\" type=\"checkbox\" ><label class=\"sk-toggleable__label\" for=\"78251e00-e81c-437b-8326-988352e7cac5\">ColumnTransformer</label><div class=\"sk-toggleable__content\"><pre>ColumnTransformer(transformers=[('num',\n",
       "                                 Pipeline(steps=[('imputer',\n",
       "                                                  SimpleImputer(strategy='median')),\n",
       "                                                 ('scaler', StandardScaler())]),\n",
       "                                 ['age', 'fare']),\n",
       "                                ('cat',\n",
       "                                 Pipeline(steps=[('imputer',\n",
       "                                                  SimpleImputer(strategy='most_frequent')),\n",
       "                                                 ('ohe',\n",
       "                                                  OneHotEncoder(handle_unknown='ignore'))]),\n",
       "                                 ['embarked', 'sex', 'pclass'])])</pre></div></div></div><div class=\"sk-parallel\"><div class=\"sk-parallel-item\"><div class=\"sk-item\"><div class=\"sk-label-container\"><div class=\"sk-label sk-toggleable\"><input class=\"sk-toggleable__control sk-hidden--visually\" id=\"25c0f05d-5a4e-4234-ac0f-113351c9e8e8\" type=\"checkbox\" ><label class=\"sk-toggleable__label\" for=\"25c0f05d-5a4e-4234-ac0f-113351c9e8e8\">num</label><div class=\"sk-toggleable__content\"><pre>['age', 'fare']</pre></div></div></div><div class=\"sk-serial\"><div class=\"sk-item\"><div class=\"sk-serial\"><div class=\"sk-item\"><div class=\"sk-estimator sk-toggleable\"><input class=\"sk-toggleable__control sk-hidden--visually\" id=\"cf635832-65b5-46d6-92a9-40140a80993e\" type=\"checkbox\" ><label class=\"sk-toggleable__label\" for=\"cf635832-65b5-46d6-92a9-40140a80993e\">SimpleImputer</label><div class=\"sk-toggleable__content\"><pre>SimpleImputer(strategy='median')</pre></div></div></div><div class=\"sk-item\"><div class=\"sk-estimator sk-toggleable\"><input class=\"sk-toggleable__control sk-hidden--visually\" id=\"eae55a1b-849a-4a12-a269-7a1df8d3f067\" type=\"checkbox\" ><label class=\"sk-toggleable__label\" for=\"eae55a1b-849a-4a12-a269-7a1df8d3f067\">StandardScaler</label><div class=\"sk-toggleable__content\"><pre>StandardScaler()</pre></div></div></div></div></div></div></div></div><div class=\"sk-parallel-item\"><div class=\"sk-item\"><div class=\"sk-label-container\"><div class=\"sk-label sk-toggleable\"><input class=\"sk-toggleable__control sk-hidden--visually\" id=\"395637ff-7395-4ba1-97ba-f0cd624ea4b3\" type=\"checkbox\" ><label class=\"sk-toggleable__label\" for=\"395637ff-7395-4ba1-97ba-f0cd624ea4b3\">cat</label><div class=\"sk-toggleable__content\"><pre>['embarked', 'sex', 'pclass']</pre></div></div></div><div class=\"sk-serial\"><div class=\"sk-item\"><div class=\"sk-serial\"><div class=\"sk-item\"><div class=\"sk-estimator sk-toggleable\"><input class=\"sk-toggleable__control sk-hidden--visually\" id=\"4063da71-d51a-4803-bf03-5733078771da\" type=\"checkbox\" ><label class=\"sk-toggleable__label\" for=\"4063da71-d51a-4803-bf03-5733078771da\">SimpleImputer</label><div class=\"sk-toggleable__content\"><pre>SimpleImputer(strategy='most_frequent')</pre></div></div></div><div class=\"sk-item\"><div class=\"sk-estimator sk-toggleable\"><input class=\"sk-toggleable__control sk-hidden--visually\" id=\"92ce44b5-7871-4e8b-a334-6d774e404f25\" type=\"checkbox\" ><label class=\"sk-toggleable__label\" for=\"92ce44b5-7871-4e8b-a334-6d774e404f25\">OneHotEncoder</label><div class=\"sk-toggleable__content\"><pre>OneHotEncoder(handle_unknown='ignore')</pre></div></div></div></div></div></div></div></div></div></div></div></div>"
      ],
      "text/plain": [
       "ColumnTransformer(transformers=[('num',\n",
       "                                 Pipeline(steps=[('imputer',\n",
       "                                                  SimpleImputer(strategy='median')),\n",
       "                                                 ('scaler', StandardScaler())]),\n",
       "                                 ['age', 'fare']),\n",
       "                                ('cat',\n",
       "                                 Pipeline(steps=[('imputer',\n",
       "                                                  SimpleImputer(strategy='most_frequent')),\n",
       "                                                 ('ohe',\n",
       "                                                  OneHotEncoder(handle_unknown='ignore'))]),\n",
       "                                 ['embarked', 'sex', 'pclass'])])"
      ]
     },
     "execution_count": 64,
     "metadata": {},
     "output_type": "execute_result"
    }
   ],
   "source": [
    "preprocessor"
   ]
  },
  {
   "cell_type": "code",
   "execution_count": 65,
   "metadata": {},
   "outputs": [
    {
     "data": {
      "text/plain": [
       "{'num': Pipeline(steps=[('imputer', SimpleImputer(strategy='median')),\n",
       "                 ('scaler', StandardScaler())]),\n",
       " 'cat': Pipeline(steps=[('imputer', SimpleImputer(strategy='most_frequent')),\n",
       "                 ('ohe', OneHotEncoder(handle_unknown='ignore'))]),\n",
       " 'remainder': 'drop'}"
      ]
     },
     "execution_count": 65,
     "metadata": {},
     "output_type": "execute_result"
    }
   ],
   "source": [
    "preprocessor.named_transformers_"
   ]
  },
  {
   "cell_type": "markdown",
   "metadata": {},
   "source": [
    "access individual elements with keys"
   ]
  },
  {
   "cell_type": "code",
   "execution_count": 66,
   "metadata": {},
   "outputs": [
    {
     "data": {
      "text/html": [
       "<style>div.sk-top-container {color: black;background-color: white;}div.sk-toggleable {background-color: white;}label.sk-toggleable__label {cursor: pointer;display: block;width: 100%;margin-bottom: 0;padding: 0.2em 0.3em;box-sizing: border-box;text-align: center;}div.sk-toggleable__content {max-height: 0;max-width: 0;overflow: hidden;text-align: left;background-color: #f0f8ff;}div.sk-toggleable__content pre {margin: 0.2em;color: black;border-radius: 0.25em;background-color: #f0f8ff;}input.sk-toggleable__control:checked~div.sk-toggleable__content {max-height: 200px;max-width: 100%;overflow: auto;}div.sk-estimator input.sk-toggleable__control:checked~label.sk-toggleable__label {background-color: #d4ebff;}div.sk-label input.sk-toggleable__control:checked~label.sk-toggleable__label {background-color: #d4ebff;}input.sk-hidden--visually {border: 0;clip: rect(1px 1px 1px 1px);clip: rect(1px, 1px, 1px, 1px);height: 1px;margin: -1px;overflow: hidden;padding: 0;position: absolute;width: 1px;}div.sk-estimator {font-family: monospace;background-color: #f0f8ff;margin: 0.25em 0.25em;border: 1px dotted black;border-radius: 0.25em;box-sizing: border-box;}div.sk-estimator:hover {background-color: #d4ebff;}div.sk-parallel-item::after {content: \"\";width: 100%;border-bottom: 1px solid gray;flex-grow: 1;}div.sk-label:hover label.sk-toggleable__label {background-color: #d4ebff;}div.sk-serial::before {content: \"\";position: absolute;border-left: 1px solid gray;box-sizing: border-box;top: 2em;bottom: 0;left: 50%;}div.sk-serial {display: flex;flex-direction: column;align-items: center;background-color: white;}div.sk-item {z-index: 1;}div.sk-parallel {display: flex;align-items: stretch;justify-content: center;background-color: white;}div.sk-parallel-item {display: flex;flex-direction: column;position: relative;background-color: white;}div.sk-parallel-item:first-child::after {align-self: flex-end;width: 50%;}div.sk-parallel-item:last-child::after {align-self: flex-start;width: 50%;}div.sk-parallel-item:only-child::after {width: 0;}div.sk-dashed-wrapped {border: 1px dashed gray;margin: 0.2em;box-sizing: border-box;padding-bottom: 0.1em;background-color: white;position: relative;}div.sk-label label {font-family: monospace;font-weight: bold;background-color: white;display: inline-block;line-height: 1.2em;}div.sk-label-container {position: relative;z-index: 2;text-align: center;}div.sk-container {display: inline-block;position: relative;}</style><div class=\"sk-top-container\"><div class=\"sk-container\"><div class=\"sk-item\"><div class=\"sk-estimator sk-toggleable\"><input class=\"sk-toggleable__control sk-hidden--visually\" id=\"562dd8e2-a382-4b4e-a291-62d82b6c819e\" type=\"checkbox\" checked><label class=\"sk-toggleable__label\" for=\"562dd8e2-a382-4b4e-a291-62d82b6c819e\">SimpleImputer</label><div class=\"sk-toggleable__content\"><pre>SimpleImputer(strategy='median')</pre></div></div></div></div></div>"
      ],
      "text/plain": [
       "SimpleImputer(strategy='median')"
      ]
     },
     "execution_count": 66,
     "metadata": {},
     "output_type": "execute_result"
    }
   ],
   "source": [
    "preprocessor.named_transformers_['num']['imputer']"
   ]
  },
  {
   "cell_type": "markdown",
   "metadata": {},
   "source": [
    "we can also use the pipeline to transform the test in one line"
   ]
  },
  {
   "cell_type": "code",
   "execution_count": 67,
   "metadata": {},
   "outputs": [
    {
     "data": {
      "text/plain": [
       "array([[-1.83373686, -0.22927215,  0.        , ...,  0.        ,\n",
       "         0.        ,  1.        ],\n",
       "       [ 1.0343065 ,  0.49264725,  1.        , ...,  1.        ,\n",
       "         0.        ,  0.        ],\n",
       "       [-0.12841378, -0.50918194,  0.        , ...,  0.        ,\n",
       "         0.        ,  1.        ],\n",
       "       ...,\n",
       "       [-0.59350189, -0.3799928 ,  0.        , ...,  0.        ,\n",
       "         0.        ,  1.        ],\n",
       "       [ 0.02661559,  2.51153315,  0.        , ...,  1.        ,\n",
       "         0.        ,  0.        ],\n",
       "       [-0.12841378, -0.52012206,  1.        , ...,  0.        ,\n",
       "         0.        ,  1.        ]])"
      ]
     },
     "execution_count": 67,
     "metadata": {},
     "output_type": "execute_result"
    }
   ],
   "source": [
    "preprocessor.transform(X_test)"
   ]
  },
  {
   "cell_type": "markdown",
   "metadata": {},
   "source": [
    "<img src='https://memegenerator.net/img/instances/76641465.jpg' align='left' style='width: 500px'>"
   ]
  },
  {
   "cell_type": "markdown",
   "metadata": {},
   "source": [
    "## pipelines with training"
   ]
  },
  {
   "cell_type": "code",
   "execution_count": 68,
   "metadata": {},
   "outputs": [],
   "source": [
    "from sklearn.linear_model import LogisticRegression"
   ]
  },
  {
   "cell_type": "code",
   "execution_count": 69,
   "metadata": {},
   "outputs": [
    {
     "data": {
      "text/html": [
       "<style>div.sk-top-container {color: black;background-color: white;}div.sk-toggleable {background-color: white;}label.sk-toggleable__label {cursor: pointer;display: block;width: 100%;margin-bottom: 0;padding: 0.2em 0.3em;box-sizing: border-box;text-align: center;}div.sk-toggleable__content {max-height: 0;max-width: 0;overflow: hidden;text-align: left;background-color: #f0f8ff;}div.sk-toggleable__content pre {margin: 0.2em;color: black;border-radius: 0.25em;background-color: #f0f8ff;}input.sk-toggleable__control:checked~div.sk-toggleable__content {max-height: 200px;max-width: 100%;overflow: auto;}div.sk-estimator input.sk-toggleable__control:checked~label.sk-toggleable__label {background-color: #d4ebff;}div.sk-label input.sk-toggleable__control:checked~label.sk-toggleable__label {background-color: #d4ebff;}input.sk-hidden--visually {border: 0;clip: rect(1px 1px 1px 1px);clip: rect(1px, 1px, 1px, 1px);height: 1px;margin: -1px;overflow: hidden;padding: 0;position: absolute;width: 1px;}div.sk-estimator {font-family: monospace;background-color: #f0f8ff;margin: 0.25em 0.25em;border: 1px dotted black;border-radius: 0.25em;box-sizing: border-box;}div.sk-estimator:hover {background-color: #d4ebff;}div.sk-parallel-item::after {content: \"\";width: 100%;border-bottom: 1px solid gray;flex-grow: 1;}div.sk-label:hover label.sk-toggleable__label {background-color: #d4ebff;}div.sk-serial::before {content: \"\";position: absolute;border-left: 1px solid gray;box-sizing: border-box;top: 2em;bottom: 0;left: 50%;}div.sk-serial {display: flex;flex-direction: column;align-items: center;background-color: white;}div.sk-item {z-index: 1;}div.sk-parallel {display: flex;align-items: stretch;justify-content: center;background-color: white;}div.sk-parallel-item {display: flex;flex-direction: column;position: relative;background-color: white;}div.sk-parallel-item:first-child::after {align-self: flex-end;width: 50%;}div.sk-parallel-item:last-child::after {align-self: flex-start;width: 50%;}div.sk-parallel-item:only-child::after {width: 0;}div.sk-dashed-wrapped {border: 1px dashed gray;margin: 0.2em;box-sizing: border-box;padding-bottom: 0.1em;background-color: white;position: relative;}div.sk-label label {font-family: monospace;font-weight: bold;background-color: white;display: inline-block;line-height: 1.2em;}div.sk-label-container {position: relative;z-index: 2;text-align: center;}div.sk-container {display: inline-block;position: relative;}</style><div class=\"sk-top-container\"><div class=\"sk-container\"><div class=\"sk-item sk-dashed-wrapped\"><div class=\"sk-label-container\"><div class=\"sk-label sk-toggleable\"><input class=\"sk-toggleable__control sk-hidden--visually\" id=\"75b9f512-b2ce-439f-8a1d-b9da2159ac25\" type=\"checkbox\" ><label class=\"sk-toggleable__label\" for=\"75b9f512-b2ce-439f-8a1d-b9da2159ac25\">Pipeline</label><div class=\"sk-toggleable__content\"><pre>Pipeline(steps=[('preprocessor',\n",
       "                 ColumnTransformer(transformers=[('num',\n",
       "                                                  Pipeline(steps=[('imputer',\n",
       "                                                                   SimpleImputer(strategy='median')),\n",
       "                                                                  ('scaler',\n",
       "                                                                   StandardScaler())]),\n",
       "                                                  ['age', 'fare']),\n",
       "                                                 ('cat',\n",
       "                                                  Pipeline(steps=[('imputer',\n",
       "                                                                   SimpleImputer(strategy='most_frequent')),\n",
       "                                                                  ('ohe',\n",
       "                                                                   OneHotEncoder(handle_unknown='ignore'))]),\n",
       "                                                  ['embarked', 'sex',\n",
       "                                                   'pclass'])])),\n",
       "                ('classifier', LogisticRegression())])</pre></div></div></div><div class=\"sk-serial\"><div class=\"sk-item sk-dashed-wrapped\"><div class=\"sk-label-container\"><div class=\"sk-label sk-toggleable\"><input class=\"sk-toggleable__control sk-hidden--visually\" id=\"78d9dbf4-2fd6-4cce-a0af-6e1fee7b7f20\" type=\"checkbox\" ><label class=\"sk-toggleable__label\" for=\"78d9dbf4-2fd6-4cce-a0af-6e1fee7b7f20\">preprocessor: ColumnTransformer</label><div class=\"sk-toggleable__content\"><pre>ColumnTransformer(transformers=[('num',\n",
       "                                 Pipeline(steps=[('imputer',\n",
       "                                                  SimpleImputer(strategy='median')),\n",
       "                                                 ('scaler', StandardScaler())]),\n",
       "                                 ['age', 'fare']),\n",
       "                                ('cat',\n",
       "                                 Pipeline(steps=[('imputer',\n",
       "                                                  SimpleImputer(strategy='most_frequent')),\n",
       "                                                 ('ohe',\n",
       "                                                  OneHotEncoder(handle_unknown='ignore'))]),\n",
       "                                 ['embarked', 'sex', 'pclass'])])</pre></div></div></div><div class=\"sk-parallel\"><div class=\"sk-parallel-item\"><div class=\"sk-item\"><div class=\"sk-label-container\"><div class=\"sk-label sk-toggleable\"><input class=\"sk-toggleable__control sk-hidden--visually\" id=\"e5942bf5-4a2b-4263-bbb0-bdba0bbb0cef\" type=\"checkbox\" ><label class=\"sk-toggleable__label\" for=\"e5942bf5-4a2b-4263-bbb0-bdba0bbb0cef\">num</label><div class=\"sk-toggleable__content\"><pre>['age', 'fare']</pre></div></div></div><div class=\"sk-serial\"><div class=\"sk-item\"><div class=\"sk-serial\"><div class=\"sk-item\"><div class=\"sk-estimator sk-toggleable\"><input class=\"sk-toggleable__control sk-hidden--visually\" id=\"26b4a628-49fe-48d4-b9c9-e47dd34b1abe\" type=\"checkbox\" ><label class=\"sk-toggleable__label\" for=\"26b4a628-49fe-48d4-b9c9-e47dd34b1abe\">SimpleImputer</label><div class=\"sk-toggleable__content\"><pre>SimpleImputer(strategy='median')</pre></div></div></div><div class=\"sk-item\"><div class=\"sk-estimator sk-toggleable\"><input class=\"sk-toggleable__control sk-hidden--visually\" id=\"4a2d17db-78e5-4b5c-a1bd-65ec30c6a389\" type=\"checkbox\" ><label class=\"sk-toggleable__label\" for=\"4a2d17db-78e5-4b5c-a1bd-65ec30c6a389\">StandardScaler</label><div class=\"sk-toggleable__content\"><pre>StandardScaler()</pre></div></div></div></div></div></div></div></div><div class=\"sk-parallel-item\"><div class=\"sk-item\"><div class=\"sk-label-container\"><div class=\"sk-label sk-toggleable\"><input class=\"sk-toggleable__control sk-hidden--visually\" id=\"cbcf7783-ba4e-4517-8d2f-77972a8a5863\" type=\"checkbox\" ><label class=\"sk-toggleable__label\" for=\"cbcf7783-ba4e-4517-8d2f-77972a8a5863\">cat</label><div class=\"sk-toggleable__content\"><pre>['embarked', 'sex', 'pclass']</pre></div></div></div><div class=\"sk-serial\"><div class=\"sk-item\"><div class=\"sk-serial\"><div class=\"sk-item\"><div class=\"sk-estimator sk-toggleable\"><input class=\"sk-toggleable__control sk-hidden--visually\" id=\"fd2f884b-abc0-4eb5-98d1-6ea355a7631e\" type=\"checkbox\" ><label class=\"sk-toggleable__label\" for=\"fd2f884b-abc0-4eb5-98d1-6ea355a7631e\">SimpleImputer</label><div class=\"sk-toggleable__content\"><pre>SimpleImputer(strategy='most_frequent')</pre></div></div></div><div class=\"sk-item\"><div class=\"sk-estimator sk-toggleable\"><input class=\"sk-toggleable__control sk-hidden--visually\" id=\"08f6874b-a637-4310-936a-4a1ce9120a06\" type=\"checkbox\" ><label class=\"sk-toggleable__label\" for=\"08f6874b-a637-4310-936a-4a1ce9120a06\">OneHotEncoder</label><div class=\"sk-toggleable__content\"><pre>OneHotEncoder(handle_unknown='ignore')</pre></div></div></div></div></div></div></div></div></div></div><div class=\"sk-item\"><div class=\"sk-estimator sk-toggleable\"><input class=\"sk-toggleable__control sk-hidden--visually\" id=\"d2e5f81a-00a7-4459-b65d-13982c7ab05d\" type=\"checkbox\" ><label class=\"sk-toggleable__label\" for=\"d2e5f81a-00a7-4459-b65d-13982c7ab05d\">LogisticRegression</label><div class=\"sk-toggleable__content\"><pre>LogisticRegression()</pre></div></div></div></div></div></div></div>"
      ],
      "text/plain": [
       "Pipeline(steps=[('preprocessor',\n",
       "                 ColumnTransformer(transformers=[('num',\n",
       "                                                  Pipeline(steps=[('imputer',\n",
       "                                                                   SimpleImputer(strategy='median')),\n",
       "                                                                  ('scaler',\n",
       "                                                                   StandardScaler())]),\n",
       "                                                  ['age', 'fare']),\n",
       "                                                 ('cat',\n",
       "                                                  Pipeline(steps=[('imputer',\n",
       "                                                                   SimpleImputer(strategy='most_frequent')),\n",
       "                                                                  ('ohe',\n",
       "                                                                   OneHotEncoder(handle_unknown='ignore'))]),\n",
       "                                                  ['embarked', 'sex',\n",
       "                                                   'pclass'])])),\n",
       "                ('classifier', LogisticRegression())])"
      ]
     },
     "execution_count": 69,
     "metadata": {},
     "output_type": "execute_result"
    }
   ],
   "source": [
    "classifier = Pipeline(steps=[('preprocessor', preprocessor),\n",
    "                             ('classifier', LogisticRegression())])\n",
    "\n",
    "classifier.fit(X_train, y_train)"
   ]
  },
  {
   "cell_type": "code",
   "execution_count": 70,
   "metadata": {},
   "outputs": [
    {
     "data": {
      "text/plain": [
       "0.7851002865329513"
      ]
     },
     "execution_count": 70,
     "metadata": {},
     "output_type": "execute_result"
    }
   ],
   "source": [
    "classifier.score(X_train, y_train)"
   ]
  },
  {
   "cell_type": "code",
   "execution_count": 71,
   "metadata": {},
   "outputs": [
    {
     "data": {
      "text/plain": [
       "0.8053435114503816"
      ]
     },
     "execution_count": 71,
     "metadata": {},
     "output_type": "execute_result"
    }
   ],
   "source": [
    "classifier.score(X_test, y_test)"
   ]
  },
  {
   "cell_type": "markdown",
   "metadata": {},
   "source": [
    "## pipelines with grid search"
   ]
  },
  {
   "cell_type": "code",
   "execution_count": 72,
   "metadata": {},
   "outputs": [],
   "source": [
    "from sklearn.model_selection import GridSearchCV\n",
    "\n",
    "from sklearn.tree import DecisionTreeClassifier"
   ]
  },
  {
   "cell_type": "code",
   "execution_count": 73,
   "metadata": {},
   "outputs": [],
   "source": [
    "classifier = Pipeline(steps=[('preprocessor', preprocessor),\n",
    "                             ('classifier', DecisionTreeClassifier())])"
   ]
  },
  {
   "cell_type": "code",
   "execution_count": 74,
   "metadata": {},
   "outputs": [
    {
     "data": {
      "text/plain": [
       "{'memory': None,\n",
       " 'steps': [('preprocessor', ColumnTransformer(transformers=[('num',\n",
       "                                    Pipeline(steps=[('imputer',\n",
       "                                                     SimpleImputer(strategy='median')),\n",
       "                                                    ('scaler', StandardScaler())]),\n",
       "                                    ['age', 'fare']),\n",
       "                                   ('cat',\n",
       "                                    Pipeline(steps=[('imputer',\n",
       "                                                     SimpleImputer(strategy='most_frequent')),\n",
       "                                                    ('ohe',\n",
       "                                                     OneHotEncoder(handle_unknown='ignore'))]),\n",
       "                                    ['embarked', 'sex', 'pclass'])])),\n",
       "  ('classifier', DecisionTreeClassifier())],\n",
       " 'verbose': False,\n",
       " 'preprocessor': ColumnTransformer(transformers=[('num',\n",
       "                                  Pipeline(steps=[('imputer',\n",
       "                                                   SimpleImputer(strategy='median')),\n",
       "                                                  ('scaler', StandardScaler())]),\n",
       "                                  ['age', 'fare']),\n",
       "                                 ('cat',\n",
       "                                  Pipeline(steps=[('imputer',\n",
       "                                                   SimpleImputer(strategy='most_frequent')),\n",
       "                                                  ('ohe',\n",
       "                                                   OneHotEncoder(handle_unknown='ignore'))]),\n",
       "                                  ['embarked', 'sex', 'pclass'])]),\n",
       " 'classifier': DecisionTreeClassifier(),\n",
       " 'preprocessor__n_jobs': None,\n",
       " 'preprocessor__remainder': 'drop',\n",
       " 'preprocessor__sparse_threshold': 0.3,\n",
       " 'preprocessor__transformer_weights': None,\n",
       " 'preprocessor__transformers': [('num',\n",
       "   Pipeline(steps=[('imputer', SimpleImputer(strategy='median')),\n",
       "                   ('scaler', StandardScaler())]),\n",
       "   ['age', 'fare']),\n",
       "  ('cat', Pipeline(steps=[('imputer', SimpleImputer(strategy='most_frequent')),\n",
       "                   ('ohe', OneHotEncoder(handle_unknown='ignore'))]), ['embarked',\n",
       "    'sex',\n",
       "    'pclass'])],\n",
       " 'preprocessor__verbose': False,\n",
       " 'preprocessor__num': Pipeline(steps=[('imputer', SimpleImputer(strategy='median')),\n",
       "                 ('scaler', StandardScaler())]),\n",
       " 'preprocessor__cat': Pipeline(steps=[('imputer', SimpleImputer(strategy='most_frequent')),\n",
       "                 ('ohe', OneHotEncoder(handle_unknown='ignore'))]),\n",
       " 'preprocessor__num__memory': None,\n",
       " 'preprocessor__num__steps': [('imputer', SimpleImputer(strategy='median')),\n",
       "  ('scaler', StandardScaler())],\n",
       " 'preprocessor__num__verbose': False,\n",
       " 'preprocessor__num__imputer': SimpleImputer(strategy='median'),\n",
       " 'preprocessor__num__scaler': StandardScaler(),\n",
       " 'preprocessor__num__imputer__add_indicator': False,\n",
       " 'preprocessor__num__imputer__copy': True,\n",
       " 'preprocessor__num__imputer__fill_value': None,\n",
       " 'preprocessor__num__imputer__missing_values': nan,\n",
       " 'preprocessor__num__imputer__strategy': 'median',\n",
       " 'preprocessor__num__imputer__verbose': 0,\n",
       " 'preprocessor__num__scaler__copy': True,\n",
       " 'preprocessor__num__scaler__with_mean': True,\n",
       " 'preprocessor__num__scaler__with_std': True,\n",
       " 'preprocessor__cat__memory': None,\n",
       " 'preprocessor__cat__steps': [('imputer',\n",
       "   SimpleImputer(strategy='most_frequent')),\n",
       "  ('ohe', OneHotEncoder(handle_unknown='ignore'))],\n",
       " 'preprocessor__cat__verbose': False,\n",
       " 'preprocessor__cat__imputer': SimpleImputer(strategy='most_frequent'),\n",
       " 'preprocessor__cat__ohe': OneHotEncoder(handle_unknown='ignore'),\n",
       " 'preprocessor__cat__imputer__add_indicator': False,\n",
       " 'preprocessor__cat__imputer__copy': True,\n",
       " 'preprocessor__cat__imputer__fill_value': None,\n",
       " 'preprocessor__cat__imputer__missing_values': nan,\n",
       " 'preprocessor__cat__imputer__strategy': 'most_frequent',\n",
       " 'preprocessor__cat__imputer__verbose': 0,\n",
       " 'preprocessor__cat__ohe__categories': 'auto',\n",
       " 'preprocessor__cat__ohe__drop': None,\n",
       " 'preprocessor__cat__ohe__dtype': numpy.float64,\n",
       " 'preprocessor__cat__ohe__handle_unknown': 'ignore',\n",
       " 'preprocessor__cat__ohe__sparse': True,\n",
       " 'classifier__ccp_alpha': 0.0,\n",
       " 'classifier__class_weight': None,\n",
       " 'classifier__criterion': 'gini',\n",
       " 'classifier__max_depth': None,\n",
       " 'classifier__max_features': None,\n",
       " 'classifier__max_leaf_nodes': None,\n",
       " 'classifier__min_impurity_decrease': 0.0,\n",
       " 'classifier__min_impurity_split': None,\n",
       " 'classifier__min_samples_leaf': 1,\n",
       " 'classifier__min_samples_split': 2,\n",
       " 'classifier__min_weight_fraction_leaf': 0.0,\n",
       " 'classifier__random_state': None,\n",
       " 'classifier__splitter': 'best'}"
      ]
     },
     "execution_count": 74,
     "metadata": {},
     "output_type": "execute_result"
    }
   ],
   "source": [
    "classifier.get_params()"
   ]
  },
  {
   "cell_type": "code",
   "execution_count": 75,
   "metadata": {},
   "outputs": [
    {
     "data": {
      "text/html": [
       "<style>div.sk-top-container {color: black;background-color: white;}div.sk-toggleable {background-color: white;}label.sk-toggleable__label {cursor: pointer;display: block;width: 100%;margin-bottom: 0;padding: 0.2em 0.3em;box-sizing: border-box;text-align: center;}div.sk-toggleable__content {max-height: 0;max-width: 0;overflow: hidden;text-align: left;background-color: #f0f8ff;}div.sk-toggleable__content pre {margin: 0.2em;color: black;border-radius: 0.25em;background-color: #f0f8ff;}input.sk-toggleable__control:checked~div.sk-toggleable__content {max-height: 200px;max-width: 100%;overflow: auto;}div.sk-estimator input.sk-toggleable__control:checked~label.sk-toggleable__label {background-color: #d4ebff;}div.sk-label input.sk-toggleable__control:checked~label.sk-toggleable__label {background-color: #d4ebff;}input.sk-hidden--visually {border: 0;clip: rect(1px 1px 1px 1px);clip: rect(1px, 1px, 1px, 1px);height: 1px;margin: -1px;overflow: hidden;padding: 0;position: absolute;width: 1px;}div.sk-estimator {font-family: monospace;background-color: #f0f8ff;margin: 0.25em 0.25em;border: 1px dotted black;border-radius: 0.25em;box-sizing: border-box;}div.sk-estimator:hover {background-color: #d4ebff;}div.sk-parallel-item::after {content: \"\";width: 100%;border-bottom: 1px solid gray;flex-grow: 1;}div.sk-label:hover label.sk-toggleable__label {background-color: #d4ebff;}div.sk-serial::before {content: \"\";position: absolute;border-left: 1px solid gray;box-sizing: border-box;top: 2em;bottom: 0;left: 50%;}div.sk-serial {display: flex;flex-direction: column;align-items: center;background-color: white;}div.sk-item {z-index: 1;}div.sk-parallel {display: flex;align-items: stretch;justify-content: center;background-color: white;}div.sk-parallel-item {display: flex;flex-direction: column;position: relative;background-color: white;}div.sk-parallel-item:first-child::after {align-self: flex-end;width: 50%;}div.sk-parallel-item:last-child::after {align-self: flex-start;width: 50%;}div.sk-parallel-item:only-child::after {width: 0;}div.sk-dashed-wrapped {border: 1px dashed gray;margin: 0.2em;box-sizing: border-box;padding-bottom: 0.1em;background-color: white;position: relative;}div.sk-label label {font-family: monospace;font-weight: bold;background-color: white;display: inline-block;line-height: 1.2em;}div.sk-label-container {position: relative;z-index: 2;text-align: center;}div.sk-container {display: inline-block;position: relative;}</style><div class=\"sk-top-container\"><div class=\"sk-container\"><div class=\"sk-item sk-dashed-wrapped\"><div class=\"sk-label-container\"><div class=\"sk-label sk-toggleable\"><input class=\"sk-toggleable__control sk-hidden--visually\" id=\"7ab1bfc7-6e40-4ed4-a461-c346163288b5\" type=\"checkbox\" ><label class=\"sk-toggleable__label\" for=\"7ab1bfc7-6e40-4ed4-a461-c346163288b5\">Pipeline</label><div class=\"sk-toggleable__content\"><pre>Pipeline(steps=[('preprocessor',\n",
       "                 ColumnTransformer(transformers=[('num',\n",
       "                                                  Pipeline(steps=[('imputer',\n",
       "                                                                   SimpleImputer(strategy='median')),\n",
       "                                                                  ('scaler',\n",
       "                                                                   StandardScaler())]),\n",
       "                                                  ['age', 'fare']),\n",
       "                                                 ('cat',\n",
       "                                                  Pipeline(steps=[('imputer',\n",
       "                                                                   SimpleImputer(strategy='most_frequent')),\n",
       "                                                                  ('ohe',\n",
       "                                                                   OneHotEncoder(handle_unknown='ignore'))]),\n",
       "                                                  ['embarked', 'sex',\n",
       "                                                   'pclass'])])),\n",
       "                ('classifier', DecisionTreeClassifier())])</pre></div></div></div><div class=\"sk-serial\"><div class=\"sk-item sk-dashed-wrapped\"><div class=\"sk-label-container\"><div class=\"sk-label sk-toggleable\"><input class=\"sk-toggleable__control sk-hidden--visually\" id=\"dabffc80-bdb3-4de7-b41d-48755f95a02b\" type=\"checkbox\" ><label class=\"sk-toggleable__label\" for=\"dabffc80-bdb3-4de7-b41d-48755f95a02b\">preprocessor: ColumnTransformer</label><div class=\"sk-toggleable__content\"><pre>ColumnTransformer(transformers=[('num',\n",
       "                                 Pipeline(steps=[('imputer',\n",
       "                                                  SimpleImputer(strategy='median')),\n",
       "                                                 ('scaler', StandardScaler())]),\n",
       "                                 ['age', 'fare']),\n",
       "                                ('cat',\n",
       "                                 Pipeline(steps=[('imputer',\n",
       "                                                  SimpleImputer(strategy='most_frequent')),\n",
       "                                                 ('ohe',\n",
       "                                                  OneHotEncoder(handle_unknown='ignore'))]),\n",
       "                                 ['embarked', 'sex', 'pclass'])])</pre></div></div></div><div class=\"sk-parallel\"><div class=\"sk-parallel-item\"><div class=\"sk-item\"><div class=\"sk-label-container\"><div class=\"sk-label sk-toggleable\"><input class=\"sk-toggleable__control sk-hidden--visually\" id=\"8f8ea917-0a55-454a-ac38-d1b2d8e822fb\" type=\"checkbox\" ><label class=\"sk-toggleable__label\" for=\"8f8ea917-0a55-454a-ac38-d1b2d8e822fb\">num</label><div class=\"sk-toggleable__content\"><pre>['age', 'fare']</pre></div></div></div><div class=\"sk-serial\"><div class=\"sk-item\"><div class=\"sk-serial\"><div class=\"sk-item\"><div class=\"sk-estimator sk-toggleable\"><input class=\"sk-toggleable__control sk-hidden--visually\" id=\"8459b679-bcd2-4c5a-8fc5-7efb25728986\" type=\"checkbox\" ><label class=\"sk-toggleable__label\" for=\"8459b679-bcd2-4c5a-8fc5-7efb25728986\">SimpleImputer</label><div class=\"sk-toggleable__content\"><pre>SimpleImputer(strategy='median')</pre></div></div></div><div class=\"sk-item\"><div class=\"sk-estimator sk-toggleable\"><input class=\"sk-toggleable__control sk-hidden--visually\" id=\"347ce382-b1f0-4d99-a8ae-fad8bf4c1f28\" type=\"checkbox\" ><label class=\"sk-toggleable__label\" for=\"347ce382-b1f0-4d99-a8ae-fad8bf4c1f28\">StandardScaler</label><div class=\"sk-toggleable__content\"><pre>StandardScaler()</pre></div></div></div></div></div></div></div></div><div class=\"sk-parallel-item\"><div class=\"sk-item\"><div class=\"sk-label-container\"><div class=\"sk-label sk-toggleable\"><input class=\"sk-toggleable__control sk-hidden--visually\" id=\"af3614c8-d5f1-4b0a-9152-4efd7128e444\" type=\"checkbox\" ><label class=\"sk-toggleable__label\" for=\"af3614c8-d5f1-4b0a-9152-4efd7128e444\">cat</label><div class=\"sk-toggleable__content\"><pre>['embarked', 'sex', 'pclass']</pre></div></div></div><div class=\"sk-serial\"><div class=\"sk-item\"><div class=\"sk-serial\"><div class=\"sk-item\"><div class=\"sk-estimator sk-toggleable\"><input class=\"sk-toggleable__control sk-hidden--visually\" id=\"d6521963-4345-4ec7-903a-6907f8ed099a\" type=\"checkbox\" ><label class=\"sk-toggleable__label\" for=\"d6521963-4345-4ec7-903a-6907f8ed099a\">SimpleImputer</label><div class=\"sk-toggleable__content\"><pre>SimpleImputer(strategy='most_frequent')</pre></div></div></div><div class=\"sk-item\"><div class=\"sk-estimator sk-toggleable\"><input class=\"sk-toggleable__control sk-hidden--visually\" id=\"1e1e7695-88e4-4da8-9108-40ce254d8863\" type=\"checkbox\" ><label class=\"sk-toggleable__label\" for=\"1e1e7695-88e4-4da8-9108-40ce254d8863\">OneHotEncoder</label><div class=\"sk-toggleable__content\"><pre>OneHotEncoder(handle_unknown='ignore')</pre></div></div></div></div></div></div></div></div></div></div><div class=\"sk-item\"><div class=\"sk-estimator sk-toggleable\"><input class=\"sk-toggleable__control sk-hidden--visually\" id=\"c182ceba-74c3-4692-b1da-e5152b2e9f64\" type=\"checkbox\" ><label class=\"sk-toggleable__label\" for=\"c182ceba-74c3-4692-b1da-e5152b2e9f64\">DecisionTreeClassifier</label><div class=\"sk-toggleable__content\"><pre>DecisionTreeClassifier()</pre></div></div></div></div></div></div></div>"
      ],
      "text/plain": [
       "Pipeline(steps=[('preprocessor',\n",
       "                 ColumnTransformer(transformers=[('num',\n",
       "                                                  Pipeline(steps=[('imputer',\n",
       "                                                                   SimpleImputer(strategy='median')),\n",
       "                                                                  ('scaler',\n",
       "                                                                   StandardScaler())]),\n",
       "                                                  ['age', 'fare']),\n",
       "                                                 ('cat',\n",
       "                                                  Pipeline(steps=[('imputer',\n",
       "                                                                   SimpleImputer(strategy='most_frequent')),\n",
       "                                                                  ('ohe',\n",
       "                                                                   OneHotEncoder(handle_unknown='ignore'))]),\n",
       "                                                  ['embarked', 'sex',\n",
       "                                                   'pclass'])])),\n",
       "                ('classifier', DecisionTreeClassifier())])"
      ]
     },
     "execution_count": 75,
     "metadata": {},
     "output_type": "execute_result"
    }
   ],
   "source": [
    "classifier"
   ]
  },
  {
   "cell_type": "code",
   "execution_count": 76,
   "metadata": {},
   "outputs": [],
   "source": [
    "param_grid = {'preprocessor__num__imputer__strategy': ['mean', 'median'],\n",
    "              'classifier__max_depth': [2, 4, 6, 8, 10],\n",
    "              'classifier__min_samples_split': [10, 15, 20]}"
   ]
  },
  {
   "cell_type": "code",
   "execution_count": 77,
   "metadata": {},
   "outputs": [],
   "source": [
    "gs = GridSearchCV(classifier, param_grid=param_grid, scoring = 'roc_auc', cv = 3)"
   ]
  },
  {
   "cell_type": "code",
   "execution_count": 78,
   "metadata": {},
   "outputs": [
    {
     "data": {
      "text/html": [
       "<style>div.sk-top-container {color: black;background-color: white;}div.sk-toggleable {background-color: white;}label.sk-toggleable__label {cursor: pointer;display: block;width: 100%;margin-bottom: 0;padding: 0.2em 0.3em;box-sizing: border-box;text-align: center;}div.sk-toggleable__content {max-height: 0;max-width: 0;overflow: hidden;text-align: left;background-color: #f0f8ff;}div.sk-toggleable__content pre {margin: 0.2em;color: black;border-radius: 0.25em;background-color: #f0f8ff;}input.sk-toggleable__control:checked~div.sk-toggleable__content {max-height: 200px;max-width: 100%;overflow: auto;}div.sk-estimator input.sk-toggleable__control:checked~label.sk-toggleable__label {background-color: #d4ebff;}div.sk-label input.sk-toggleable__control:checked~label.sk-toggleable__label {background-color: #d4ebff;}input.sk-hidden--visually {border: 0;clip: rect(1px 1px 1px 1px);clip: rect(1px, 1px, 1px, 1px);height: 1px;margin: -1px;overflow: hidden;padding: 0;position: absolute;width: 1px;}div.sk-estimator {font-family: monospace;background-color: #f0f8ff;margin: 0.25em 0.25em;border: 1px dotted black;border-radius: 0.25em;box-sizing: border-box;}div.sk-estimator:hover {background-color: #d4ebff;}div.sk-parallel-item::after {content: \"\";width: 100%;border-bottom: 1px solid gray;flex-grow: 1;}div.sk-label:hover label.sk-toggleable__label {background-color: #d4ebff;}div.sk-serial::before {content: \"\";position: absolute;border-left: 1px solid gray;box-sizing: border-box;top: 2em;bottom: 0;left: 50%;}div.sk-serial {display: flex;flex-direction: column;align-items: center;background-color: white;}div.sk-item {z-index: 1;}div.sk-parallel {display: flex;align-items: stretch;justify-content: center;background-color: white;}div.sk-parallel-item {display: flex;flex-direction: column;position: relative;background-color: white;}div.sk-parallel-item:first-child::after {align-self: flex-end;width: 50%;}div.sk-parallel-item:last-child::after {align-self: flex-start;width: 50%;}div.sk-parallel-item:only-child::after {width: 0;}div.sk-dashed-wrapped {border: 1px dashed gray;margin: 0.2em;box-sizing: border-box;padding-bottom: 0.1em;background-color: white;position: relative;}div.sk-label label {font-family: monospace;font-weight: bold;background-color: white;display: inline-block;line-height: 1.2em;}div.sk-label-container {position: relative;z-index: 2;text-align: center;}div.sk-container {display: inline-block;position: relative;}</style><div class=\"sk-top-container\"><div class=\"sk-container\"><div class=\"sk-item sk-dashed-wrapped\"><div class=\"sk-label-container\"><div class=\"sk-label sk-toggleable\"><input class=\"sk-toggleable__control sk-hidden--visually\" id=\"d980a107-ab74-4b1e-82ee-c95c50ac4728\" type=\"checkbox\" ><label class=\"sk-toggleable__label\" for=\"d980a107-ab74-4b1e-82ee-c95c50ac4728\">GridSearchCV</label><div class=\"sk-toggleable__content\"><pre>GridSearchCV(estimator=Pipeline(steps=[('preprocessor',\n",
       "                                        ColumnTransformer(transformers=[('num',\n",
       "                                                                         Pipeline(steps=[('imputer',\n",
       "                                                                                          SimpleImputer(strategy='median')),\n",
       "                                                                                         ('scaler',\n",
       "                                                                                          StandardScaler())]),\n",
       "                                                                         ['age',\n",
       "                                                                          'fare']),\n",
       "                                                                        ('cat',\n",
       "                                                                         Pipeline(steps=[('imputer',\n",
       "                                                                                          SimpleImputer(strategy='most_frequent')),\n",
       "                                                                                         ('ohe',\n",
       "                                                                                          OneHotEncoder(handle_unknown='ignore'))]),\n",
       "                                                                         ['embarked',\n",
       "                                                                          'sex',\n",
       "                                                                          'pclass'])])),\n",
       "                                       ('classifier',\n",
       "                                        DecisionTreeClassifier())]),\n",
       "             param_grid={'classifier__max_depth': [2, 4, 6, 8, 10],\n",
       "                         'classifier__min_samples_split': [10, 15, 20],\n",
       "                         'preprocessor__num__imputer__strategy': ['mean',\n",
       "                                                                  'median']},\n",
       "             scoring='roc_auc')</pre></div></div></div><div class=\"sk-parallel\"><div class=\"sk-parallel-item\"><div class=\"sk-item\"><div class=\"sk-serial\"><div class=\"sk-item\"><div class=\"sk-serial\"><div class=\"sk-item sk-dashed-wrapped\"><div class=\"sk-label-container\"><div class=\"sk-label sk-toggleable\"><input class=\"sk-toggleable__control sk-hidden--visually\" id=\"3b99cab8-840f-4747-aacb-b428865b663a\" type=\"checkbox\" ><label class=\"sk-toggleable__label\" for=\"3b99cab8-840f-4747-aacb-b428865b663a\">preprocessor: ColumnTransformer</label><div class=\"sk-toggleable__content\"><pre>ColumnTransformer(transformers=[('num',\n",
       "                                 Pipeline(steps=[('imputer',\n",
       "                                                  SimpleImputer(strategy='median')),\n",
       "                                                 ('scaler', StandardScaler())]),\n",
       "                                 ['age', 'fare']),\n",
       "                                ('cat',\n",
       "                                 Pipeline(steps=[('imputer',\n",
       "                                                  SimpleImputer(strategy='most_frequent')),\n",
       "                                                 ('ohe',\n",
       "                                                  OneHotEncoder(handle_unknown='ignore'))]),\n",
       "                                 ['embarked', 'sex', 'pclass'])])</pre></div></div></div><div class=\"sk-parallel\"><div class=\"sk-parallel-item\"><div class=\"sk-item\"><div class=\"sk-label-container\"><div class=\"sk-label sk-toggleable\"><input class=\"sk-toggleable__control sk-hidden--visually\" id=\"0b54de36-4296-4627-9950-cdbe923516e7\" type=\"checkbox\" ><label class=\"sk-toggleable__label\" for=\"0b54de36-4296-4627-9950-cdbe923516e7\">num</label><div class=\"sk-toggleable__content\"><pre>['age', 'fare']</pre></div></div></div><div class=\"sk-serial\"><div class=\"sk-item\"><div class=\"sk-serial\"><div class=\"sk-item\"><div class=\"sk-estimator sk-toggleable\"><input class=\"sk-toggleable__control sk-hidden--visually\" id=\"1db61b90-45b0-4195-a3ba-ae0bbfd40019\" type=\"checkbox\" ><label class=\"sk-toggleable__label\" for=\"1db61b90-45b0-4195-a3ba-ae0bbfd40019\">SimpleImputer</label><div class=\"sk-toggleable__content\"><pre>SimpleImputer(strategy='median')</pre></div></div></div><div class=\"sk-item\"><div class=\"sk-estimator sk-toggleable\"><input class=\"sk-toggleable__control sk-hidden--visually\" id=\"3ad9b791-1259-4042-8a60-fb5f5633e0eb\" type=\"checkbox\" ><label class=\"sk-toggleable__label\" for=\"3ad9b791-1259-4042-8a60-fb5f5633e0eb\">StandardScaler</label><div class=\"sk-toggleable__content\"><pre>StandardScaler()</pre></div></div></div></div></div></div></div></div><div class=\"sk-parallel-item\"><div class=\"sk-item\"><div class=\"sk-label-container\"><div class=\"sk-label sk-toggleable\"><input class=\"sk-toggleable__control sk-hidden--visually\" id=\"420fb984-4e26-4c17-a3a3-68d45561163d\" type=\"checkbox\" ><label class=\"sk-toggleable__label\" for=\"420fb984-4e26-4c17-a3a3-68d45561163d\">cat</label><div class=\"sk-toggleable__content\"><pre>['embarked', 'sex', 'pclass']</pre></div></div></div><div class=\"sk-serial\"><div class=\"sk-item\"><div class=\"sk-serial\"><div class=\"sk-item\"><div class=\"sk-estimator sk-toggleable\"><input class=\"sk-toggleable__control sk-hidden--visually\" id=\"69b13536-612a-4a10-afde-7ea8e73eb6b5\" type=\"checkbox\" ><label class=\"sk-toggleable__label\" for=\"69b13536-612a-4a10-afde-7ea8e73eb6b5\">SimpleImputer</label><div class=\"sk-toggleable__content\"><pre>SimpleImputer(strategy='most_frequent')</pre></div></div></div><div class=\"sk-item\"><div class=\"sk-estimator sk-toggleable\"><input class=\"sk-toggleable__control sk-hidden--visually\" id=\"873df5f0-e4a2-4bbe-9da1-e9bf5309ddc8\" type=\"checkbox\" ><label class=\"sk-toggleable__label\" for=\"873df5f0-e4a2-4bbe-9da1-e9bf5309ddc8\">OneHotEncoder</label><div class=\"sk-toggleable__content\"><pre>OneHotEncoder(handle_unknown='ignore')</pre></div></div></div></div></div></div></div></div></div></div><div class=\"sk-item\"><div class=\"sk-estimator sk-toggleable\"><input class=\"sk-toggleable__control sk-hidden--visually\" id=\"77bd9888-c048-473f-b739-7c633eef3118\" type=\"checkbox\" ><label class=\"sk-toggleable__label\" for=\"77bd9888-c048-473f-b739-7c633eef3118\">DecisionTreeClassifier</label><div class=\"sk-toggleable__content\"><pre>DecisionTreeClassifier()</pre></div></div></div></div></div></div></div></div></div></div></div></div>"
      ],
      "text/plain": [
       "GridSearchCV(estimator=Pipeline(steps=[('preprocessor',\n",
       "                                        ColumnTransformer(transformers=[('num',\n",
       "                                                                         Pipeline(steps=[('imputer',\n",
       "                                                                                          SimpleImputer(strategy='median')),\n",
       "                                                                                         ('scaler',\n",
       "                                                                                          StandardScaler())]),\n",
       "                                                                         ['age',\n",
       "                                                                          'fare']),\n",
       "                                                                        ('cat',\n",
       "                                                                         Pipeline(steps=[('imputer',\n",
       "                                                                                          SimpleImputer(strategy='most_frequent')),\n",
       "                                                                                         ('ohe',\n",
       "                                                                                          OneHotEncoder(handle_unknown='ignore'))]),\n",
       "                                                                         ['embarked',\n",
       "                                                                          'sex',\n",
       "                                                                          'pclass'])])),\n",
       "                                       ('classifier',\n",
       "                                        DecisionTreeClassifier())]),\n",
       "             param_grid={'classifier__max_depth': [2, 4, 6, 8, 10],\n",
       "                         'classifier__min_samples_split': [10, 15, 20],\n",
       "                         'preprocessor__num__imputer__strategy': ['mean',\n",
       "                                                                  'median']},\n",
       "             scoring='roc_auc')"
      ]
     },
     "execution_count": 78,
     "metadata": {},
     "output_type": "execute_result"
    }
   ],
   "source": [
    "gs.fit(X_train, y_train)"
   ]
  },
  {
   "cell_type": "code",
   "execution_count": 79,
   "metadata": {},
   "outputs": [
    {
     "data": {
      "text/plain": [
       "{'classifier__max_depth': 6,\n",
       " 'classifier__min_samples_split': 20,\n",
       " 'preprocessor__num__imputer__strategy': 'median'}"
      ]
     },
     "execution_count": 79,
     "metadata": {},
     "output_type": "execute_result"
    }
   ],
   "source": [
    "gs.best_params_"
   ]
  },
  {
   "cell_type": "code",
   "execution_count": 82,
   "metadata": {},
   "outputs": [
    {
     "data": {
      "text/html": [
       "<div>\n",
       "<style scoped>\n",
       "    .dataframe tbody tr th:only-of-type {\n",
       "        vertical-align: middle;\n",
       "    }\n",
       "\n",
       "    .dataframe tbody tr th {\n",
       "        vertical-align: top;\n",
       "    }\n",
       "\n",
       "    .dataframe thead th {\n",
       "        text-align: right;\n",
       "    }\n",
       "</style>\n",
       "<table border=\"1\" class=\"dataframe\">\n",
       "  <thead>\n",
       "    <tr style=\"text-align: right;\">\n",
       "      <th></th>\n",
       "      <th>mean_fit_time</th>\n",
       "      <th>std_fit_time</th>\n",
       "      <th>mean_score_time</th>\n",
       "      <th>std_score_time</th>\n",
       "      <th>param_classifier__max_depth</th>\n",
       "      <th>param_classifier__min_samples_split</th>\n",
       "      <th>param_preprocessor__num__imputer__strategy</th>\n",
       "      <th>params</th>\n",
       "      <th>split0_test_score</th>\n",
       "      <th>split1_test_score</th>\n",
       "      <th>split2_test_score</th>\n",
       "      <th>split3_test_score</th>\n",
       "      <th>split4_test_score</th>\n",
       "      <th>mean_test_score</th>\n",
       "      <th>std_test_score</th>\n",
       "      <th>rank_test_score</th>\n",
       "    </tr>\n",
       "  </thead>\n",
       "  <tbody>\n",
       "    <tr>\n",
       "      <th>0</th>\n",
       "      <td>0.017910</td>\n",
       "      <td>0.002086</td>\n",
       "      <td>0.009397</td>\n",
       "      <td>0.001732</td>\n",
       "      <td>2</td>\n",
       "      <td>10</td>\n",
       "      <td>mean</td>\n",
       "      <td>{'classifier__max_depth': 2, 'classifier__min_...</td>\n",
       "      <td>0.785470</td>\n",
       "      <td>0.809931</td>\n",
       "      <td>0.754947</td>\n",
       "      <td>0.826128</td>\n",
       "      <td>0.811486</td>\n",
       "      <td>0.797592</td>\n",
       "      <td>0.025001</td>\n",
       "      <td>21</td>\n",
       "    </tr>\n",
       "    <tr>\n",
       "      <th>1</th>\n",
       "      <td>0.017166</td>\n",
       "      <td>0.002632</td>\n",
       "      <td>0.009016</td>\n",
       "      <td>0.001306</td>\n",
       "      <td>2</td>\n",
       "      <td>10</td>\n",
       "      <td>median</td>\n",
       "      <td>{'classifier__max_depth': 2, 'classifier__min_...</td>\n",
       "      <td>0.785470</td>\n",
       "      <td>0.809931</td>\n",
       "      <td>0.754947</td>\n",
       "      <td>0.826128</td>\n",
       "      <td>0.811486</td>\n",
       "      <td>0.797592</td>\n",
       "      <td>0.025001</td>\n",
       "      <td>21</td>\n",
       "    </tr>\n",
       "    <tr>\n",
       "      <th>2</th>\n",
       "      <td>0.016655</td>\n",
       "      <td>0.001997</td>\n",
       "      <td>0.009111</td>\n",
       "      <td>0.001023</td>\n",
       "      <td>2</td>\n",
       "      <td>15</td>\n",
       "      <td>mean</td>\n",
       "      <td>{'classifier__max_depth': 2, 'classifier__min_...</td>\n",
       "      <td>0.785470</td>\n",
       "      <td>0.809931</td>\n",
       "      <td>0.754947</td>\n",
       "      <td>0.826128</td>\n",
       "      <td>0.811486</td>\n",
       "      <td>0.797592</td>\n",
       "      <td>0.025001</td>\n",
       "      <td>21</td>\n",
       "    </tr>\n",
       "    <tr>\n",
       "      <th>3</th>\n",
       "      <td>0.019861</td>\n",
       "      <td>0.000810</td>\n",
       "      <td>0.009355</td>\n",
       "      <td>0.000528</td>\n",
       "      <td>2</td>\n",
       "      <td>15</td>\n",
       "      <td>median</td>\n",
       "      <td>{'classifier__max_depth': 2, 'classifier__min_...</td>\n",
       "      <td>0.785470</td>\n",
       "      <td>0.809931</td>\n",
       "      <td>0.754947</td>\n",
       "      <td>0.826128</td>\n",
       "      <td>0.811486</td>\n",
       "      <td>0.797592</td>\n",
       "      <td>0.025001</td>\n",
       "      <td>21</td>\n",
       "    </tr>\n",
       "    <tr>\n",
       "      <th>4</th>\n",
       "      <td>0.019269</td>\n",
       "      <td>0.000815</td>\n",
       "      <td>0.009492</td>\n",
       "      <td>0.000470</td>\n",
       "      <td>2</td>\n",
       "      <td>20</td>\n",
       "      <td>mean</td>\n",
       "      <td>{'classifier__max_depth': 2, 'classifier__min_...</td>\n",
       "      <td>0.785470</td>\n",
       "      <td>0.809931</td>\n",
       "      <td>0.754947</td>\n",
       "      <td>0.826128</td>\n",
       "      <td>0.811486</td>\n",
       "      <td>0.797592</td>\n",
       "      <td>0.025001</td>\n",
       "      <td>21</td>\n",
       "    </tr>\n",
       "    <tr>\n",
       "      <th>5</th>\n",
       "      <td>0.020601</td>\n",
       "      <td>0.000727</td>\n",
       "      <td>0.010721</td>\n",
       "      <td>0.000558</td>\n",
       "      <td>2</td>\n",
       "      <td>20</td>\n",
       "      <td>median</td>\n",
       "      <td>{'classifier__max_depth': 2, 'classifier__min_...</td>\n",
       "      <td>0.785470</td>\n",
       "      <td>0.809931</td>\n",
       "      <td>0.754947</td>\n",
       "      <td>0.826128</td>\n",
       "      <td>0.811486</td>\n",
       "      <td>0.797592</td>\n",
       "      <td>0.025001</td>\n",
       "      <td>21</td>\n",
       "    </tr>\n",
       "    <tr>\n",
       "      <th>6</th>\n",
       "      <td>0.015431</td>\n",
       "      <td>0.000894</td>\n",
       "      <td>0.007707</td>\n",
       "      <td>0.000448</td>\n",
       "      <td>4</td>\n",
       "      <td>10</td>\n",
       "      <td>mean</td>\n",
       "      <td>{'classifier__max_depth': 4, 'classifier__min_...</td>\n",
       "      <td>0.794356</td>\n",
       "      <td>0.853383</td>\n",
       "      <td>0.811931</td>\n",
       "      <td>0.861595</td>\n",
       "      <td>0.819796</td>\n",
       "      <td>0.828212</td>\n",
       "      <td>0.025417</td>\n",
       "      <td>8</td>\n",
       "    </tr>\n",
       "    <tr>\n",
       "      <th>7</th>\n",
       "      <td>0.015762</td>\n",
       "      <td>0.001503</td>\n",
       "      <td>0.008574</td>\n",
       "      <td>0.001304</td>\n",
       "      <td>4</td>\n",
       "      <td>10</td>\n",
       "      <td>median</td>\n",
       "      <td>{'classifier__max_depth': 4, 'classifier__min_...</td>\n",
       "      <td>0.794356</td>\n",
       "      <td>0.851479</td>\n",
       "      <td>0.811931</td>\n",
       "      <td>0.861595</td>\n",
       "      <td>0.815987</td>\n",
       "      <td>0.827070</td>\n",
       "      <td>0.025338</td>\n",
       "      <td>11</td>\n",
       "    </tr>\n",
       "    <tr>\n",
       "      <th>8</th>\n",
       "      <td>0.019137</td>\n",
       "      <td>0.001152</td>\n",
       "      <td>0.009873</td>\n",
       "      <td>0.000557</td>\n",
       "      <td>4</td>\n",
       "      <td>15</td>\n",
       "      <td>mean</td>\n",
       "      <td>{'classifier__max_depth': 4, 'classifier__min_...</td>\n",
       "      <td>0.794356</td>\n",
       "      <td>0.853383</td>\n",
       "      <td>0.811931</td>\n",
       "      <td>0.861595</td>\n",
       "      <td>0.821082</td>\n",
       "      <td>0.828470</td>\n",
       "      <td>0.025337</td>\n",
       "      <td>6</td>\n",
       "    </tr>\n",
       "    <tr>\n",
       "      <th>9</th>\n",
       "      <td>0.018188</td>\n",
       "      <td>0.001573</td>\n",
       "      <td>0.009249</td>\n",
       "      <td>0.001202</td>\n",
       "      <td>4</td>\n",
       "      <td>15</td>\n",
       "      <td>median</td>\n",
       "      <td>{'classifier__max_depth': 4, 'classifier__min_...</td>\n",
       "      <td>0.794356</td>\n",
       "      <td>0.851479</td>\n",
       "      <td>0.811931</td>\n",
       "      <td>0.861595</td>\n",
       "      <td>0.821082</td>\n",
       "      <td>0.828089</td>\n",
       "      <td>0.024971</td>\n",
       "      <td>10</td>\n",
       "    </tr>\n",
       "    <tr>\n",
       "      <th>10</th>\n",
       "      <td>0.017662</td>\n",
       "      <td>0.001171</td>\n",
       "      <td>0.009646</td>\n",
       "      <td>0.000716</td>\n",
       "      <td>4</td>\n",
       "      <td>20</td>\n",
       "      <td>mean</td>\n",
       "      <td>{'classifier__max_depth': 4, 'classifier__min_...</td>\n",
       "      <td>0.797432</td>\n",
       "      <td>0.853383</td>\n",
       "      <td>0.811041</td>\n",
       "      <td>0.861595</td>\n",
       "      <td>0.829838</td>\n",
       "      <td>0.830658</td>\n",
       "      <td>0.024343</td>\n",
       "      <td>4</td>\n",
       "    </tr>\n",
       "    <tr>\n",
       "      <th>11</th>\n",
       "      <td>0.015014</td>\n",
       "      <td>0.000926</td>\n",
       "      <td>0.007650</td>\n",
       "      <td>0.000284</td>\n",
       "      <td>4</td>\n",
       "      <td>20</td>\n",
       "      <td>median</td>\n",
       "      <td>{'classifier__max_depth': 4, 'classifier__min_...</td>\n",
       "      <td>0.797432</td>\n",
       "      <td>0.851479</td>\n",
       "      <td>0.811041</td>\n",
       "      <td>0.861595</td>\n",
       "      <td>0.829838</td>\n",
       "      <td>0.830277</td>\n",
       "      <td>0.023997</td>\n",
       "      <td>5</td>\n",
       "    </tr>\n",
       "    <tr>\n",
       "      <th>12</th>\n",
       "      <td>0.017706</td>\n",
       "      <td>0.002401</td>\n",
       "      <td>0.008992</td>\n",
       "      <td>0.000564</td>\n",
       "      <td>6</td>\n",
       "      <td>10</td>\n",
       "      <td>mean</td>\n",
       "      <td>{'classifier__max_depth': 6, 'classifier__min_...</td>\n",
       "      <td>0.801875</td>\n",
       "      <td>0.860756</td>\n",
       "      <td>0.829244</td>\n",
       "      <td>0.828453</td>\n",
       "      <td>0.807133</td>\n",
       "      <td>0.825492</td>\n",
       "      <td>0.020790</td>\n",
       "      <td>12</td>\n",
       "    </tr>\n",
       "    <tr>\n",
       "      <th>13</th>\n",
       "      <td>0.019391</td>\n",
       "      <td>0.001200</td>\n",
       "      <td>0.009330</td>\n",
       "      <td>0.000476</td>\n",
       "      <td>6</td>\n",
       "      <td>10</td>\n",
       "      <td>median</td>\n",
       "      <td>{'classifier__max_depth': 6, 'classifier__min_...</td>\n",
       "      <td>0.801582</td>\n",
       "      <td>0.863832</td>\n",
       "      <td>0.829244</td>\n",
       "      <td>0.834488</td>\n",
       "      <td>0.812871</td>\n",
       "      <td>0.828403</td>\n",
       "      <td>0.021230</td>\n",
       "      <td>7</td>\n",
       "    </tr>\n",
       "    <tr>\n",
       "      <th>14</th>\n",
       "      <td>0.016658</td>\n",
       "      <td>0.001023</td>\n",
       "      <td>0.008804</td>\n",
       "      <td>0.000776</td>\n",
       "      <td>6</td>\n",
       "      <td>15</td>\n",
       "      <td>mean</td>\n",
       "      <td>{'classifier__max_depth': 6, 'classifier__min_...</td>\n",
       "      <td>0.801875</td>\n",
       "      <td>0.851138</td>\n",
       "      <td>0.834933</td>\n",
       "      <td>0.832954</td>\n",
       "      <td>0.819945</td>\n",
       "      <td>0.828169</td>\n",
       "      <td>0.016463</td>\n",
       "      <td>9</td>\n",
       "    </tr>\n",
       "    <tr>\n",
       "      <th>15</th>\n",
       "      <td>0.018044</td>\n",
       "      <td>0.002296</td>\n",
       "      <td>0.008543</td>\n",
       "      <td>0.000657</td>\n",
       "      <td>6</td>\n",
       "      <td>15</td>\n",
       "      <td>median</td>\n",
       "      <td>{'classifier__max_depth': 6, 'classifier__min_...</td>\n",
       "      <td>0.801582</td>\n",
       "      <td>0.865394</td>\n",
       "      <td>0.834933</td>\n",
       "      <td>0.838544</td>\n",
       "      <td>0.822072</td>\n",
       "      <td>0.832505</td>\n",
       "      <td>0.020924</td>\n",
       "      <td>3</td>\n",
       "    </tr>\n",
       "    <tr>\n",
       "      <th>16</th>\n",
       "      <td>0.017519</td>\n",
       "      <td>0.000816</td>\n",
       "      <td>0.009469</td>\n",
       "      <td>0.001252</td>\n",
       "      <td>6</td>\n",
       "      <td>20</td>\n",
       "      <td>mean</td>\n",
       "      <td>{'classifier__max_depth': 6, 'classifier__min_...</td>\n",
       "      <td>0.807441</td>\n",
       "      <td>0.864320</td>\n",
       "      <td>0.829590</td>\n",
       "      <td>0.844034</td>\n",
       "      <td>0.826721</td>\n",
       "      <td>0.834421</td>\n",
       "      <td>0.018957</td>\n",
       "      <td>2</td>\n",
       "    </tr>\n",
       "    <tr>\n",
       "      <th>17</th>\n",
       "      <td>0.017963</td>\n",
       "      <td>0.000574</td>\n",
       "      <td>0.008867</td>\n",
       "      <td>0.001086</td>\n",
       "      <td>6</td>\n",
       "      <td>20</td>\n",
       "      <td>median</td>\n",
       "      <td>{'classifier__max_depth': 6, 'classifier__min_...</td>\n",
       "      <td>0.807636</td>\n",
       "      <td>0.865833</td>\n",
       "      <td>0.829590</td>\n",
       "      <td>0.849772</td>\n",
       "      <td>0.829244</td>\n",
       "      <td>0.836415</td>\n",
       "      <td>0.019850</td>\n",
       "      <td>1</td>\n",
       "    </tr>\n",
       "    <tr>\n",
       "      <th>18</th>\n",
       "      <td>0.018172</td>\n",
       "      <td>0.001058</td>\n",
       "      <td>0.010008</td>\n",
       "      <td>0.001033</td>\n",
       "      <td>8</td>\n",
       "      <td>10</td>\n",
       "      <td>mean</td>\n",
       "      <td>{'classifier__max_depth': 8, 'classifier__min_...</td>\n",
       "      <td>0.761644</td>\n",
       "      <td>0.820623</td>\n",
       "      <td>0.807974</td>\n",
       "      <td>0.803621</td>\n",
       "      <td>0.786011</td>\n",
       "      <td>0.795975</td>\n",
       "      <td>0.020434</td>\n",
       "      <td>27</td>\n",
       "    </tr>\n",
       "    <tr>\n",
       "      <th>19</th>\n",
       "      <td>0.017010</td>\n",
       "      <td>0.001324</td>\n",
       "      <td>0.008507</td>\n",
       "      <td>0.000960</td>\n",
       "      <td>8</td>\n",
       "      <td>10</td>\n",
       "      <td>median</td>\n",
       "      <td>{'classifier__max_depth': 8, 'classifier__min_...</td>\n",
       "      <td>0.768431</td>\n",
       "      <td>0.811395</td>\n",
       "      <td>0.810694</td>\n",
       "      <td>0.823753</td>\n",
       "      <td>0.796498</td>\n",
       "      <td>0.802154</td>\n",
       "      <td>0.018943</td>\n",
       "      <td>17</td>\n",
       "    </tr>\n",
       "    <tr>\n",
       "      <th>20</th>\n",
       "      <td>0.018680</td>\n",
       "      <td>0.001013</td>\n",
       "      <td>0.008903</td>\n",
       "      <td>0.000548</td>\n",
       "      <td>8</td>\n",
       "      <td>15</td>\n",
       "      <td>mean</td>\n",
       "      <td>{'classifier__max_depth': 8, 'classifier__min_...</td>\n",
       "      <td>0.769700</td>\n",
       "      <td>0.837223</td>\n",
       "      <td>0.802928</td>\n",
       "      <td>0.807529</td>\n",
       "      <td>0.787841</td>\n",
       "      <td>0.801044</td>\n",
       "      <td>0.022411</td>\n",
       "      <td>18</td>\n",
       "    </tr>\n",
       "    <tr>\n",
       "      <th>21</th>\n",
       "      <td>0.015016</td>\n",
       "      <td>0.001184</td>\n",
       "      <td>0.007184</td>\n",
       "      <td>0.000106</td>\n",
       "      <td>8</td>\n",
       "      <td>15</td>\n",
       "      <td>median</td>\n",
       "      <td>{'classifier__max_depth': 8, 'classifier__min_...</td>\n",
       "      <td>0.775657</td>\n",
       "      <td>0.829802</td>\n",
       "      <td>0.805649</td>\n",
       "      <td>0.826524</td>\n",
       "      <td>0.793926</td>\n",
       "      <td>0.806311</td>\n",
       "      <td>0.020268</td>\n",
       "      <td>16</td>\n",
       "    </tr>\n",
       "    <tr>\n",
       "      <th>22</th>\n",
       "      <td>0.022404</td>\n",
       "      <td>0.006970</td>\n",
       "      <td>0.011783</td>\n",
       "      <td>0.002061</td>\n",
       "      <td>8</td>\n",
       "      <td>20</td>\n",
       "      <td>mean</td>\n",
       "      <td>{'classifier__max_depth': 8, 'classifier__min_...</td>\n",
       "      <td>0.776389</td>\n",
       "      <td>0.849038</td>\n",
       "      <td>0.808419</td>\n",
       "      <td>0.831124</td>\n",
       "      <td>0.802434</td>\n",
       "      <td>0.813481</td>\n",
       "      <td>0.024896</td>\n",
       "      <td>14</td>\n",
       "    </tr>\n",
       "    <tr>\n",
       "      <th>23</th>\n",
       "      <td>0.019500</td>\n",
       "      <td>0.001608</td>\n",
       "      <td>0.010075</td>\n",
       "      <td>0.000841</td>\n",
       "      <td>8</td>\n",
       "      <td>20</td>\n",
       "      <td>median</td>\n",
       "      <td>{'classifier__max_depth': 8, 'classifier__min_...</td>\n",
       "      <td>0.780002</td>\n",
       "      <td>0.846011</td>\n",
       "      <td>0.811239</td>\n",
       "      <td>0.846409</td>\n",
       "      <td>0.810249</td>\n",
       "      <td>0.818782</td>\n",
       "      <td>0.025053</td>\n",
       "      <td>13</td>\n",
       "    </tr>\n",
       "    <tr>\n",
       "      <th>24</th>\n",
       "      <td>0.018163</td>\n",
       "      <td>0.001332</td>\n",
       "      <td>0.009041</td>\n",
       "      <td>0.000688</td>\n",
       "      <td>10</td>\n",
       "      <td>10</td>\n",
       "      <td>mean</td>\n",
       "      <td>{'classifier__max_depth': 10, 'classifier__min...</td>\n",
       "      <td>0.752319</td>\n",
       "      <td>0.828386</td>\n",
       "      <td>0.765977</td>\n",
       "      <td>0.797636</td>\n",
       "      <td>0.773199</td>\n",
       "      <td>0.783503</td>\n",
       "      <td>0.026833</td>\n",
       "      <td>30</td>\n",
       "    </tr>\n",
       "    <tr>\n",
       "      <th>25</th>\n",
       "      <td>0.018733</td>\n",
       "      <td>0.001594</td>\n",
       "      <td>0.009319</td>\n",
       "      <td>0.000863</td>\n",
       "      <td>10</td>\n",
       "      <td>10</td>\n",
       "      <td>median</td>\n",
       "      <td>{'classifier__max_depth': 10, 'classifier__min...</td>\n",
       "      <td>0.752075</td>\n",
       "      <td>0.848403</td>\n",
       "      <td>0.770380</td>\n",
       "      <td>0.818411</td>\n",
       "      <td>0.771814</td>\n",
       "      <td>0.792217</td>\n",
       "      <td>0.035630</td>\n",
       "      <td>28</td>\n",
       "    </tr>\n",
       "    <tr>\n",
       "      <th>26</th>\n",
       "      <td>0.017949</td>\n",
       "      <td>0.001388</td>\n",
       "      <td>0.009556</td>\n",
       "      <td>0.000938</td>\n",
       "      <td>10</td>\n",
       "      <td>15</td>\n",
       "      <td>mean</td>\n",
       "      <td>{'classifier__max_depth': 10, 'classifier__min...</td>\n",
       "      <td>0.762181</td>\n",
       "      <td>0.830632</td>\n",
       "      <td>0.769737</td>\n",
       "      <td>0.799466</td>\n",
       "      <td>0.784230</td>\n",
       "      <td>0.789249</td>\n",
       "      <td>0.024312</td>\n",
       "      <td>29</td>\n",
       "    </tr>\n",
       "    <tr>\n",
       "      <th>27</th>\n",
       "      <td>0.019496</td>\n",
       "      <td>0.000531</td>\n",
       "      <td>0.009474</td>\n",
       "      <td>0.000593</td>\n",
       "      <td>10</td>\n",
       "      <td>15</td>\n",
       "      <td>median</td>\n",
       "      <td>{'classifier__max_depth': 10, 'classifier__min...</td>\n",
       "      <td>0.774338</td>\n",
       "      <td>0.849575</td>\n",
       "      <td>0.774189</td>\n",
       "      <td>0.815740</td>\n",
       "      <td>0.779778</td>\n",
       "      <td>0.798724</td>\n",
       "      <td>0.029769</td>\n",
       "      <td>19</td>\n",
       "    </tr>\n",
       "    <tr>\n",
       "      <th>28</th>\n",
       "      <td>0.019289</td>\n",
       "      <td>0.000574</td>\n",
       "      <td>0.009308</td>\n",
       "      <td>0.000430</td>\n",
       "      <td>10</td>\n",
       "      <td>20</td>\n",
       "      <td>mean</td>\n",
       "      <td>{'classifier__max_depth': 10, 'classifier__min...</td>\n",
       "      <td>0.767406</td>\n",
       "      <td>0.855336</td>\n",
       "      <td>0.765087</td>\n",
       "      <td>0.818312</td>\n",
       "      <td>0.783686</td>\n",
       "      <td>0.797965</td>\n",
       "      <td>0.034422</td>\n",
       "      <td>20</td>\n",
       "    </tr>\n",
       "    <tr>\n",
       "      <th>29</th>\n",
       "      <td>0.019104</td>\n",
       "      <td>0.001672</td>\n",
       "      <td>0.009726</td>\n",
       "      <td>0.000505</td>\n",
       "      <td>10</td>\n",
       "      <td>20</td>\n",
       "      <td>median</td>\n",
       "      <td>{'classifier__max_depth': 10, 'classifier__min...</td>\n",
       "      <td>0.776291</td>\n",
       "      <td>0.874524</td>\n",
       "      <td>0.766620</td>\n",
       "      <td>0.832410</td>\n",
       "      <td>0.787495</td>\n",
       "      <td>0.807468</td>\n",
       "      <td>0.040393</td>\n",
       "      <td>15</td>\n",
       "    </tr>\n",
       "  </tbody>\n",
       "</table>\n",
       "</div>"
      ],
      "text/plain": [
       "    mean_fit_time  std_fit_time  mean_score_time  std_score_time  \\\n",
       "0        0.017910      0.002086         0.009397        0.001732   \n",
       "1        0.017166      0.002632         0.009016        0.001306   \n",
       "2        0.016655      0.001997         0.009111        0.001023   \n",
       "3        0.019861      0.000810         0.009355        0.000528   \n",
       "4        0.019269      0.000815         0.009492        0.000470   \n",
       "5        0.020601      0.000727         0.010721        0.000558   \n",
       "6        0.015431      0.000894         0.007707        0.000448   \n",
       "7        0.015762      0.001503         0.008574        0.001304   \n",
       "8        0.019137      0.001152         0.009873        0.000557   \n",
       "9        0.018188      0.001573         0.009249        0.001202   \n",
       "10       0.017662      0.001171         0.009646        0.000716   \n",
       "11       0.015014      0.000926         0.007650        0.000284   \n",
       "12       0.017706      0.002401         0.008992        0.000564   \n",
       "13       0.019391      0.001200         0.009330        0.000476   \n",
       "14       0.016658      0.001023         0.008804        0.000776   \n",
       "15       0.018044      0.002296         0.008543        0.000657   \n",
       "16       0.017519      0.000816         0.009469        0.001252   \n",
       "17       0.017963      0.000574         0.008867        0.001086   \n",
       "18       0.018172      0.001058         0.010008        0.001033   \n",
       "19       0.017010      0.001324         0.008507        0.000960   \n",
       "20       0.018680      0.001013         0.008903        0.000548   \n",
       "21       0.015016      0.001184         0.007184        0.000106   \n",
       "22       0.022404      0.006970         0.011783        0.002061   \n",
       "23       0.019500      0.001608         0.010075        0.000841   \n",
       "24       0.018163      0.001332         0.009041        0.000688   \n",
       "25       0.018733      0.001594         0.009319        0.000863   \n",
       "26       0.017949      0.001388         0.009556        0.000938   \n",
       "27       0.019496      0.000531         0.009474        0.000593   \n",
       "28       0.019289      0.000574         0.009308        0.000430   \n",
       "29       0.019104      0.001672         0.009726        0.000505   \n",
       "\n",
       "   param_classifier__max_depth param_classifier__min_samples_split  \\\n",
       "0                            2                                  10   \n",
       "1                            2                                  10   \n",
       "2                            2                                  15   \n",
       "3                            2                                  15   \n",
       "4                            2                                  20   \n",
       "5                            2                                  20   \n",
       "6                            4                                  10   \n",
       "7                            4                                  10   \n",
       "8                            4                                  15   \n",
       "9                            4                                  15   \n",
       "10                           4                                  20   \n",
       "11                           4                                  20   \n",
       "12                           6                                  10   \n",
       "13                           6                                  10   \n",
       "14                           6                                  15   \n",
       "15                           6                                  15   \n",
       "16                           6                                  20   \n",
       "17                           6                                  20   \n",
       "18                           8                                  10   \n",
       "19                           8                                  10   \n",
       "20                           8                                  15   \n",
       "21                           8                                  15   \n",
       "22                           8                                  20   \n",
       "23                           8                                  20   \n",
       "24                          10                                  10   \n",
       "25                          10                                  10   \n",
       "26                          10                                  15   \n",
       "27                          10                                  15   \n",
       "28                          10                                  20   \n",
       "29                          10                                  20   \n",
       "\n",
       "   param_preprocessor__num__imputer__strategy  \\\n",
       "0                                        mean   \n",
       "1                                      median   \n",
       "2                                        mean   \n",
       "3                                      median   \n",
       "4                                        mean   \n",
       "5                                      median   \n",
       "6                                        mean   \n",
       "7                                      median   \n",
       "8                                        mean   \n",
       "9                                      median   \n",
       "10                                       mean   \n",
       "11                                     median   \n",
       "12                                       mean   \n",
       "13                                     median   \n",
       "14                                       mean   \n",
       "15                                     median   \n",
       "16                                       mean   \n",
       "17                                     median   \n",
       "18                                       mean   \n",
       "19                                     median   \n",
       "20                                       mean   \n",
       "21                                     median   \n",
       "22                                       mean   \n",
       "23                                     median   \n",
       "24                                       mean   \n",
       "25                                     median   \n",
       "26                                       mean   \n",
       "27                                     median   \n",
       "28                                       mean   \n",
       "29                                     median   \n",
       "\n",
       "                                               params  split0_test_score  \\\n",
       "0   {'classifier__max_depth': 2, 'classifier__min_...           0.785470   \n",
       "1   {'classifier__max_depth': 2, 'classifier__min_...           0.785470   \n",
       "2   {'classifier__max_depth': 2, 'classifier__min_...           0.785470   \n",
       "3   {'classifier__max_depth': 2, 'classifier__min_...           0.785470   \n",
       "4   {'classifier__max_depth': 2, 'classifier__min_...           0.785470   \n",
       "5   {'classifier__max_depth': 2, 'classifier__min_...           0.785470   \n",
       "6   {'classifier__max_depth': 4, 'classifier__min_...           0.794356   \n",
       "7   {'classifier__max_depth': 4, 'classifier__min_...           0.794356   \n",
       "8   {'classifier__max_depth': 4, 'classifier__min_...           0.794356   \n",
       "9   {'classifier__max_depth': 4, 'classifier__min_...           0.794356   \n",
       "10  {'classifier__max_depth': 4, 'classifier__min_...           0.797432   \n",
       "11  {'classifier__max_depth': 4, 'classifier__min_...           0.797432   \n",
       "12  {'classifier__max_depth': 6, 'classifier__min_...           0.801875   \n",
       "13  {'classifier__max_depth': 6, 'classifier__min_...           0.801582   \n",
       "14  {'classifier__max_depth': 6, 'classifier__min_...           0.801875   \n",
       "15  {'classifier__max_depth': 6, 'classifier__min_...           0.801582   \n",
       "16  {'classifier__max_depth': 6, 'classifier__min_...           0.807441   \n",
       "17  {'classifier__max_depth': 6, 'classifier__min_...           0.807636   \n",
       "18  {'classifier__max_depth': 8, 'classifier__min_...           0.761644   \n",
       "19  {'classifier__max_depth': 8, 'classifier__min_...           0.768431   \n",
       "20  {'classifier__max_depth': 8, 'classifier__min_...           0.769700   \n",
       "21  {'classifier__max_depth': 8, 'classifier__min_...           0.775657   \n",
       "22  {'classifier__max_depth': 8, 'classifier__min_...           0.776389   \n",
       "23  {'classifier__max_depth': 8, 'classifier__min_...           0.780002   \n",
       "24  {'classifier__max_depth': 10, 'classifier__min...           0.752319   \n",
       "25  {'classifier__max_depth': 10, 'classifier__min...           0.752075   \n",
       "26  {'classifier__max_depth': 10, 'classifier__min...           0.762181   \n",
       "27  {'classifier__max_depth': 10, 'classifier__min...           0.774338   \n",
       "28  {'classifier__max_depth': 10, 'classifier__min...           0.767406   \n",
       "29  {'classifier__max_depth': 10, 'classifier__min...           0.776291   \n",
       "\n",
       "    split1_test_score  split2_test_score  split3_test_score  \\\n",
       "0            0.809931           0.754947           0.826128   \n",
       "1            0.809931           0.754947           0.826128   \n",
       "2            0.809931           0.754947           0.826128   \n",
       "3            0.809931           0.754947           0.826128   \n",
       "4            0.809931           0.754947           0.826128   \n",
       "5            0.809931           0.754947           0.826128   \n",
       "6            0.853383           0.811931           0.861595   \n",
       "7            0.851479           0.811931           0.861595   \n",
       "8            0.853383           0.811931           0.861595   \n",
       "9            0.851479           0.811931           0.861595   \n",
       "10           0.853383           0.811041           0.861595   \n",
       "11           0.851479           0.811041           0.861595   \n",
       "12           0.860756           0.829244           0.828453   \n",
       "13           0.863832           0.829244           0.834488   \n",
       "14           0.851138           0.834933           0.832954   \n",
       "15           0.865394           0.834933           0.838544   \n",
       "16           0.864320           0.829590           0.844034   \n",
       "17           0.865833           0.829590           0.849772   \n",
       "18           0.820623           0.807974           0.803621   \n",
       "19           0.811395           0.810694           0.823753   \n",
       "20           0.837223           0.802928           0.807529   \n",
       "21           0.829802           0.805649           0.826524   \n",
       "22           0.849038           0.808419           0.831124   \n",
       "23           0.846011           0.811239           0.846409   \n",
       "24           0.828386           0.765977           0.797636   \n",
       "25           0.848403           0.770380           0.818411   \n",
       "26           0.830632           0.769737           0.799466   \n",
       "27           0.849575           0.774189           0.815740   \n",
       "28           0.855336           0.765087           0.818312   \n",
       "29           0.874524           0.766620           0.832410   \n",
       "\n",
       "    split4_test_score  mean_test_score  std_test_score  rank_test_score  \n",
       "0            0.811486         0.797592        0.025001               21  \n",
       "1            0.811486         0.797592        0.025001               21  \n",
       "2            0.811486         0.797592        0.025001               21  \n",
       "3            0.811486         0.797592        0.025001               21  \n",
       "4            0.811486         0.797592        0.025001               21  \n",
       "5            0.811486         0.797592        0.025001               21  \n",
       "6            0.819796         0.828212        0.025417                8  \n",
       "7            0.815987         0.827070        0.025338               11  \n",
       "8            0.821082         0.828470        0.025337                6  \n",
       "9            0.821082         0.828089        0.024971               10  \n",
       "10           0.829838         0.830658        0.024343                4  \n",
       "11           0.829838         0.830277        0.023997                5  \n",
       "12           0.807133         0.825492        0.020790               12  \n",
       "13           0.812871         0.828403        0.021230                7  \n",
       "14           0.819945         0.828169        0.016463                9  \n",
       "15           0.822072         0.832505        0.020924                3  \n",
       "16           0.826721         0.834421        0.018957                2  \n",
       "17           0.829244         0.836415        0.019850                1  \n",
       "18           0.786011         0.795975        0.020434               27  \n",
       "19           0.796498         0.802154        0.018943               17  \n",
       "20           0.787841         0.801044        0.022411               18  \n",
       "21           0.793926         0.806311        0.020268               16  \n",
       "22           0.802434         0.813481        0.024896               14  \n",
       "23           0.810249         0.818782        0.025053               13  \n",
       "24           0.773199         0.783503        0.026833               30  \n",
       "25           0.771814         0.792217        0.035630               28  \n",
       "26           0.784230         0.789249        0.024312               29  \n",
       "27           0.779778         0.798724        0.029769               19  \n",
       "28           0.783686         0.797965        0.034422               20  \n",
       "29           0.787495         0.807468        0.040393               15  "
      ]
     },
     "execution_count": 82,
     "metadata": {},
     "output_type": "execute_result"
    }
   ],
   "source": [
    "pd.DataFrame(gs.cv_results_)"
   ]
  },
  {
   "cell_type": "code",
   "execution_count": 80,
   "metadata": {},
   "outputs": [
    {
     "data": {
      "text/plain": [
       "0.8932626067787269"
      ]
     },
     "execution_count": 80,
     "metadata": {},
     "output_type": "execute_result"
    }
   ],
   "source": [
    "gs.score(X_train, y_train)"
   ]
  },
  {
   "cell_type": "code",
   "execution_count": 81,
   "metadata": {},
   "outputs": [
    {
     "data": {
      "text/plain": [
       "0.8620527306967984"
      ]
     },
     "execution_count": 81,
     "metadata": {},
     "output_type": "execute_result"
    }
   ],
   "source": [
    "gs.score(X_test, y_test)"
   ]
  },
  {
   "cell_type": "markdown",
   "metadata": {},
   "source": [
    "<img src='IMG_6355.jpg' style='width: 500px' align='left'>"
   ]
  }
 ],
 "metadata": {
  "kernelspec": {
   "display_name": "Python 3",
   "language": "python",
   "name": "python3"
  },
  "language_info": {
   "codemirror_mode": {
    "name": "ipython",
    "version": 3
   },
   "file_extension": ".py",
   "mimetype": "text/x-python",
   "name": "python",
   "nbconvert_exporter": "python",
   "pygments_lexer": "ipython3",
   "version": "3.7.4"
  }
 },
 "nbformat": 4,
 "nbformat_minor": 4
}
